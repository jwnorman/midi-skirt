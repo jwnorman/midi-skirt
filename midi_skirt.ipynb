{
 "cells": [
  {
   "cell_type": "markdown",
   "metadata": {},
   "source": [
    "# libs"
   ]
  },
  {
   "cell_type": "code",
   "execution_count": 1274,
   "metadata": {
    "collapsed": true
   },
   "outputs": [],
   "source": [
    "import copy\n",
    "import midi\n",
    "import numpy as np\n",
    "import pandas as pd\n",
    "import random\n",
    "\n",
    "# https://code.google.com/archive/p/python-musical/source/default/source\n",
    "# pretty awesome library. I downloaded the package from the above link and then extracted\n",
    "# the musical/ directory from python-musical/trunk/ and placed in sister midi-skirt/ (.gitignored). \n",
    "from musical.theory import Note, scale, Scale, Chord"
   ]
  },
  {
   "cell_type": "markdown",
   "metadata": {},
   "source": [
    "# constants"
   ]
  },
  {
   "cell_type": "code",
   "execution_count": 1275,
   "metadata": {
    "collapsed": false
   },
   "outputs": [],
   "source": [
    "class PatternConstants:\n",
    "    def __init__(self, resolution=440):\n",
    "        self.resolution = resolution\n",
    "        self.quarter_note = resolution\n",
    "        self.half_note = resolution * 2\n",
    "        self.eighth_note = int(resolution / 2.0)\n",
    "        self.sixteenth_note = int(resolution / 4.0)\n",
    "        self.thirty_second_note = int(resolution / 8.0)\n",
    "        self.sixty_forth_note = int(resolution / 16.0)\n",
    "        self.whole_note = resolution * 4\n",
    "        self.bar = resolution * 4\n",
    "\n",
    "pc = PatternConstants()"
   ]
  },
  {
   "cell_type": "markdown",
   "metadata": {},
   "source": [
    "# pattern and track"
   ]
  },
  {
   "cell_type": "code",
   "execution_count": 1276,
   "metadata": {
    "collapsed": false
   },
   "outputs": [],
   "source": [
    "pattern = midi.Pattern(resolution=pc.resolution)\n",
    "track = midi.Track()\n",
    "#melody_track = midi.Track()\n",
    "track.append(tempo)\n",
    "pattern.append(track)\n",
    "#pattern.append(melody_track)"
   ]
  },
  {
   "cell_type": "markdown",
   "metadata": {},
   "source": [
    "# helper flunctions"
   ]
  },
  {
   "cell_type": "code",
   "execution_count": 1277,
   "metadata": {
    "collapsed": true
   },
   "outputs": [],
   "source": [
    "def make_ticks_rel(track):\n",
    "    number_before_negative = 0\n",
    "    running_tick = 0\n",
    "    for event in track:\n",
    "        event.tick -= running_tick\n",
    "        if event.tick >= 0:\n",
    "            number_before_negative += 1\n",
    "        else:\n",
    "            print number_before_negative\n",
    "        running_tick += event.tick\n",
    "    return track"
   ]
  },
  {
   "cell_type": "code",
   "execution_count": 1278,
   "metadata": {
    "collapsed": true
   },
   "outputs": [],
   "source": [
    "def get_max_tick(track):\n",
    "    return max([event.tick for event in track])\n",
    "\n",
    "def get_min_tick(track):\n",
    "    return min([event.tick for event in track])"
   ]
  },
  {
   "cell_type": "markdown",
   "metadata": {},
   "source": [
    "# event stager"
   ]
  },
  {
   "cell_type": "code",
   "execution_count": 1279,
   "metadata": {
    "collapsed": true
   },
   "outputs": [],
   "source": [
    "class MidiEventStager:\n",
    "    # class to store events nearly ready to be converted to events\n",
    "    def __init__(self, midi_event_fun, start_tick, duration, pitch, velocity):\n",
    "        self.midi_event_fun = midi_event_fun\n",
    "        self.start_tick = start_tick\n",
    "        self.duration = duration\n",
    "        self.pitch = pitch\n",
    "        self.velocity = velocity\n",
    "    \n",
    "#     def apply_midi_event_fun():\n",
    "#         self.midi_event_fun(tick=self.start_tick, velocity=self.velocity, pitch=self.pitch)\n",
    "        \n",
    "    def __repr__(self):\n",
    "        return \"{} {}\".format(self.pitch, self.midi_event_fun.name)"
   ]
  },
  {
   "cell_type": "code",
   "execution_count": 1280,
   "metadata": {
    "collapsed": true
   },
   "outputs": [],
   "source": [
    "def convert_staging_events_to_dataframe(staging_events):\n",
    "    event_tuples = [(se.midi_event_fun, se.start_tick, se.duration, se.pitch, se.velocity) for se in staging_events]\n",
    "    event_df = pd.DataFrame(event_tuples)\n",
    "    event_df.columns = [\"event_type_fun\", \"tick\", \"duration\", \"pitch\", \"velocity\"]\n",
    "    return event_df"
   ]
  },
  {
   "cell_type": "markdown",
   "metadata": {},
   "source": [
    "# chord"
   ]
  },
  {
   "cell_type": "code",
   "execution_count": 1281,
   "metadata": {
    "collapsed": false
   },
   "outputs": [],
   "source": [
    "class MidiChord:\n",
    "    \"\"\"Build a list of staging events from input notes.\n",
    "\n",
    "    Note: a MidiChord has no conception of start_tick but set_start_tick helps set the tick.\n",
    "    \"\"\"\n",
    "    # \n",
    "    def __init__(self, chord_notes=None):\n",
    "        \"\"\"\n",
    "        chord_notes: a list of strings that represent the notes and octaves of the chord.\n",
    "        usage:\n",
    "            chord = MidiChord(['c1', 'e1', 'g1'])\n",
    "        \"\"\"\n",
    "        self.chord_notes = chord_notes\n",
    "        self.staged_events = []\n",
    "        # self.chord_name = \"\"\n",
    "    \n",
    "    def build_chord(self):\n",
    "        \"\"\"Populates the staged_events list with on and off of events, one for each note in the chord.\"\"\"\n",
    "        for note in self.chord_notes:\n",
    "            # velocity = random.randint(50, 90)\n",
    "            notes_created = self._create_note_tuple(note)\n",
    "            self.staged_events.extend(notes_created)\n",
    "    \n",
    "#     def set_start_tick(self, start_tick):\n",
    "#         for event in self.staged_events:\n",
    "#             event.start_tick += start_tick\n",
    "    \n",
    "#     def set_start_ticks(self, start_ticks):\n",
    "#         raise NotImplemented\n",
    "\n",
    "#     def set_start_tick_noisily(self, start_tick, noise_range):\n",
    "#         for event in self.staged_events:\n",
    "#             event.start_tick += start_tick + np.random.uniform(noise_range[0], noise_range[1])\n",
    "            \n",
    "    def _create_note_tuple(self, note):\n",
    "        return [\n",
    "            MidiEventStager(midi.NoteOnEvent, 0, 0, note, 0),\n",
    "            MidiEventStager(midi.NoteOffEvent, 0, 0, note, 0)\n",
    "        ]\n",
    "        "
   ]
  },
  {
   "cell_type": "code",
   "execution_count": 1282,
   "metadata": {
    "collapsed": false
   },
   "outputs": [],
   "source": [
    "chord = MidiChord(['c1', 'e1', 'g1'])"
   ]
  },
  {
   "cell_type": "code",
   "execution_count": 1283,
   "metadata": {
    "collapsed": false
   },
   "outputs": [],
   "source": [
    "chord.build_chord()"
   ]
  },
  {
   "cell_type": "code",
   "execution_count": 1284,
   "metadata": {
    "collapsed": false
   },
   "outputs": [
    {
     "data": {
      "text/plain": [
       "[c1 Note On, c1 Note Off, e1 Note On, e1 Note Off, g1 Note On, g1 Note Off]"
      ]
     },
     "execution_count": 1284,
     "metadata": {},
     "output_type": "execute_result"
    }
   ],
   "source": [
    "chord.staged_events"
   ]
  },
  {
   "cell_type": "markdown",
   "metadata": {},
   "source": [
    "# chord builder"
   ]
  },
  {
   "cell_type": "code",
   "execution_count": 1285,
   "metadata": {
    "collapsed": false
   },
   "outputs": [],
   "source": [
    "class ChordBuilder:\n",
    "    \"\"\"A class with functions to help create MidiChord instances.\"\"\"\n",
    "\n",
    "    def build_from_intervals(self, root, octave, intervals, scale_name=\"major\"):\n",
    "        \"\"\"Given chord specs return a MidiChord object of said chord.\n",
    "        \n",
    "        root: string of the note.\n",
    "        octave: an integer between 0 and 8 (or 9 or something)\n",
    "        intervals: a list of note intervals relative to the root. Use 'b' for flat and '#' for sharp.\n",
    "        \n",
    "        usage:\n",
    "            chord = ChordBuilder().build_from_intervals('c', 6, [\"1\", \"3\", \"5\", \"b7\", \"#9\"])\n",
    "            \n",
    "        returns:\n",
    "            a MidiChord object\n",
    "        \"\"\"\n",
    "        named_scale = scale.NAMED_SCALES[scale_name]\n",
    "        my_scale = Scale(Note((root.upper(), octave)), named_scale)\n",
    "        num_notes_in_scale = len(my_scale)\n",
    "        scale_start_num = octave * num_notes_in_scale\n",
    "        intervals = [self._deal_with_pitch_accidentals(interval) for interval in intervals]\n",
    "        notes = [my_scale.get(scale_start_num+interval[0]-1).transpose(interval[1]) for interval in intervals]\n",
    "        chord = MidiChord([note.note + str(note.octave) for note in notes])\n",
    "        chord.build_chord()\n",
    "        return chord\n",
    "    \n",
    "    def build_directly(self):\n",
    "        pass\n",
    "\n",
    "    def build_randomly_from_scale():\n",
    "        pass\n",
    "    \n",
    "    def _get_list_of_chord_notes_from_chord(self, notes):\n",
    "        return [Note.index_from_string(chord_note.note + str(chord_note.octave)) for chord_note in notes]\n",
    "    \n",
    "    def _deal_with_pitch_accidentals(self, interval):\n",
    "        # input \"b9\" output (9, -1)\n",
    "        # input \"#9\" output (9, 1)\n",
    "        # input \"9\" output (9, 0)\n",
    "        if \"b\" in interval:\n",
    "            transposition = -1\n",
    "        elif \"#\" in interval:\n",
    "            transposition = 1\n",
    "        else:\n",
    "            transposition = 0\n",
    "        note = int(interval.replace(\"b\", \"\").replace(\"#\", \"\"))\n",
    "        return((note, transposition))"
   ]
  },
  {
   "cell_type": "code",
   "execution_count": 1286,
   "metadata": {
    "collapsed": false
   },
   "outputs": [],
   "source": [
    "chord = ChordBuilder().build_from_intervals(\"Bb\", 6, [\"1\", \"3\", \"5\", \"b7\", \"#9\"])"
   ]
  },
  {
   "cell_type": "code",
   "execution_count": 1287,
   "metadata": {
    "collapsed": false
   },
   "outputs": [],
   "source": [
    "notes = chord.staged_events"
   ]
  },
  {
   "cell_type": "code",
   "execution_count": 1288,
   "metadata": {
    "collapsed": false
   },
   "outputs": [
    {
     "data": {
      "text/plain": [
       "[a#6 Note On,\n",
       " a#6 Note Off,\n",
       " d7 Note On,\n",
       " d7 Note Off,\n",
       " f7 Note On,\n",
       " f7 Note Off,\n",
       " g#7 Note On,\n",
       " g#7 Note Off,\n",
       " c#8 Note On,\n",
       " c#8 Note Off]"
      ]
     },
     "execution_count": 1288,
     "metadata": {},
     "output_type": "execute_result"
    }
   ],
   "source": [
    "notes"
   ]
  },
  {
   "cell_type": "markdown",
   "metadata": {},
   "source": [
    "# chord progression"
   ]
  },
  {
   "cell_type": "code",
   "execution_count": 1289,
   "metadata": {
    "collapsed": false
   },
   "outputs": [],
   "source": [
    "class ChordProgression:\n",
    "    \"\"\"A ChordProgression consists of chords and changes (start ticks)\n",
    "    \n",
    "    The changes are just the underlying chord progression. A rhythm is created separately and applied\n",
    "    later by using the chord progression object to know which chord to play.\n",
    "    \"\"\"\n",
    "    def __init__(self, chords=[], changes=[]):\n",
    "        self.chords = chords\n",
    "        self.changes = changes\n",
    "        #self.changes.append(np.inf).insert(0, 0)\n",
    "\n",
    "#     def build_progression_from_chords(self, chords):\n",
    "#         \"\"\"chords is a list of MidiChord objects\"\"\"\n",
    "#         self.chords = chords\n",
    "    \n",
    "    def build_progression_randomly_from_scale(self, scale):\n",
    "        pass\n",
    "    \n",
    "    def build_changes_randomly(self, duration_choices):\n",
    "        pass\n",
    "    \n",
    "#     def build_changes_directly(self, changes):\n",
    "#         \"\"\"changes are how long to play each chord.\"\"\"\n",
    "#         self.changes = changes\n",
    "    \n",
    "    def repeat_progression(self, num_repeats):\n",
    "        temp_chords = []\n",
    "        temp_changes = []\n",
    "        for _ in range(num_repeats):\n",
    "            for chord in self.chords:\n",
    "                temp_chords.append(copy.deepcopy(chord))\n",
    "            for change in self.changes:\n",
    "                temp_changes.append(copy.deepcopy(change))\n",
    "        self.chords = temp_chords\n",
    "        self.changes = temp_changes\n",
    "        \n",
    "    @property\n",
    "    def length(self):\n",
    "        return sum(self.changes)\n",
    "    \n",
    "    def get_chord_from_tick(self, tick):\n",
    "        temp = [0] + self.changes + [np.inf]\n",
    "        pos = np.sum(np.cumsum(temp) < tick)#  - 1\n",
    "        if pos == len(self.chords):\n",
    "            pos -= 1  # hack for now\n",
    "        return self.chords[pos]\n",
    "    \n",
    "#     def build_changes_from_pattern(pattern, progression_length):\n",
    "#         self.changes = np.cumsum(np.repeat(pattern, np.floor(float(progression_length) / sum(pattern))))\n",
    "        "
   ]
  },
  {
   "cell_type": "code",
   "execution_count": null,
   "metadata": {
    "collapsed": true
   },
   "outputs": [],
   "source": []
  },
  {
   "cell_type": "code",
   "execution_count": 1290,
   "metadata": {
    "collapsed": true
   },
   "outputs": [],
   "source": [
    "c7sharp9 = ChordBuilder().build_from_intervals(\"C\", 5, [\"1\", \"3\", \"5\", \"b7\", \"#9\"])\n",
    "am7 = ChordBuilder().build_from_intervals(\"A\", 5, [\"1\", \"b3\", \"5\", \"b7\"])\n",
    "g6 = ChordBuilder().build_from_intervals(\"G\", 5, [\"1\", \"3\", \"5\", \"6\"])\n",
    "f69 = ChordBuilder().build_from_intervals(\"F\", 5, [\"1\", \"3\", \"5\", \"6\", \"9\"])\n",
    "bb13 = ChordBuilder().build_from_intervals(\"Bb\", 5, [\"1\", \"3\", \"5\", \"b7\", \"9\", \"13\"])"
   ]
  },
  {
   "cell_type": "code",
   "execution_count": 1291,
   "metadata": {
    "collapsed": false
   },
   "outputs": [],
   "source": [
    "chord_progression = ChordProgression(\n",
    "    chords=[am7, g6, f69, bb13],\n",
    "    changes=[pc.bar, pc.bar, pc.bar, pc.bar]\n",
    ")"
   ]
  },
  {
   "cell_type": "code",
   "execution_count": 1292,
   "metadata": {
    "collapsed": false
   },
   "outputs": [],
   "source": [
    "chord_progression.repeat_progression(18)"
   ]
  },
  {
   "cell_type": "markdown",
   "metadata": {},
   "source": [
    "# rhythm"
   ]
  },
  {
   "cell_type": "code",
   "execution_count": 1293,
   "metadata": {
    "collapsed": true
   },
   "outputs": [],
   "source": [
    "class Rhythm:\n",
    "    def __init__(self, rhythm_len=None, start_tick=None, quantization=None):\n",
    "        self.rhythm_len = rhythm_len\n",
    "        self.start_tick = start_tick\n",
    "        self.quantization = quantization\n",
    "        self.start_ticks = []\n",
    "        self.note_lengths = []\n",
    "    \n",
    "    def build_rhythm_randomly(self, note_density, note_len_choices):\n",
    "        number_of_notes = self._compute_num_notes(note_density)\n",
    "        self.start_ticks = self._get_random_start_ticks(number_of_notes)\n",
    "        self.note_lengths = [np.random.choice(note_len_choices) for _ in self.start_ticks]\n",
    "    \n",
    "    def build_rhythm_directly(self):\n",
    "        pass\n",
    "    \n",
    "    def _compute_num_notes(self, note_density):\n",
    "        return int(self.rhythm_len * note_density / float(self.quantization))\n",
    "    \n",
    "    def _get_random_start_ticks(self, number_of_notes):\n",
    "        return np.unique(sorted([\n",
    "                    self._find_nearest_note(\n",
    "                        value=random.randint(0, self.rhythm_len)+self.start_tick,\n",
    "                        note_type=self.quantization)\n",
    "                    for _ in range(number_of_notes)]))\n",
    "    \n",
    "    def _find_nearest_note(self, value, note_type):\n",
    "        mod = value % note_type\n",
    "        if (mod > (note_type / 2.0)): # round up \n",
    "            return value + note_type - mod\n",
    "        else:\n",
    "            return value - mod\n"
   ]
  },
  {
   "cell_type": "code",
   "execution_count": 1294,
   "metadata": {
    "collapsed": true
   },
   "outputs": [],
   "source": [
    "rhythm = Rhythm(rhythm_len=pc.bar*64, start_tick=2, quantization=pc.sixteenth_note)\n",
    "# rhythm = Rhythm(rhythm_len=pc.bar*64, start_tick=2, quantization=pc.bar)"
   ]
  },
  {
   "cell_type": "code",
   "execution_count": null,
   "metadata": {
    "collapsed": true
   },
   "outputs": [],
   "source": [
    "rhythm.build_rhythm_randomly(\n",
    "    note_density=.5,\n",
    "    note_len_choices=[pc.sixteenth_note, pc.thirty_second_note, pc.eighth_note, pc.quarter_note, pc.whole_note])"
   ]
  },
  {
   "cell_type": "code",
   "execution_count": 1295,
   "metadata": {
    "collapsed": false
   },
   "outputs": [],
   "source": [
    "# rhythm.build_rhythm_randomly(\n",
    "#     note_density=10.0,\n",
    "#     note_len_choices=[pc.whole_note])"
   ]
  },
  {
   "cell_type": "markdown",
   "metadata": {},
   "source": [
    "# chord progression + rhythm"
   ]
  },
  {
   "cell_type": "code",
   "execution_count": 1296,
   "metadata": {
    "collapsed": false
   },
   "outputs": [],
   "source": [
    "class ChordProgressionRhythm:\n",
    "    def __init__(self, rhythm, chord_progression, match_lengths=True):\n",
    "        self.rhythm = rhythm\n",
    "        self.chord_progression = chord_progression\n",
    "        self.chords = self.build_staging_events()\n",
    "        if match_lengths:\n",
    "            self.make_chord_and_rhythm_same_length()\n",
    "    \n",
    "    def build_staging_events(self):\n",
    "        chords = []\n",
    "        for tick, duration in zip(self.rhythm.start_ticks, self.rhythm.note_lengths):\n",
    "            chord = copy.deepcopy(self.chord_progression.get_chord_from_tick(tick))\n",
    "            for event in chord.staged_events:\n",
    "                if event.midi_event_fun.name == \"Note On\":\n",
    "                    event.start_tick = tick\n",
    "                    event.duration = duration\n",
    "                    event.velocity = random.randint(50, 90)\n",
    "                elif event.midi_event_fun.name == \"Note Off\":\n",
    "                    event.start_tick = tick + duration\n",
    "                    event.duration = duration\n",
    "                else:\n",
    "                    print 'wat'\n",
    "            chords.append(chord)\n",
    "        print chords[10].staged_events[0].start_tick\n",
    "        return chords\n",
    "\n",
    "    def make_chord_and_rhythm_same_length(self):\n",
    "        pass"
   ]
  },
  {
   "cell_type": "code",
   "execution_count": 1297,
   "metadata": {
    "collapsed": false,
    "scrolled": true
   },
   "outputs": [
    {
     "name": "stdout",
     "output_type": "stream",
     "text": [
      "17600\n"
     ]
    }
   ],
   "source": [
    "cpr = ChordProgressionRhythm(rhythm, chord_progression)"
   ]
  },
  {
   "cell_type": "code",
   "execution_count": 1298,
   "metadata": {
    "collapsed": false
   },
   "outputs": [],
   "source": [
    "all_staged_events = []\n",
    "for chord in cpr.chords:\n",
    "    for staged_event in chord.staged_events:\n",
    "        # print staged_event.start_tick\n",
    "        all_staged_events.append(staged_event)"
   ]
  },
  {
   "cell_type": "code",
   "execution_count": 1299,
   "metadata": {
    "collapsed": false
   },
   "outputs": [],
   "source": [
    "df = convert_staging_events_to_dataframe(all_staged_events)"
   ]
  },
  {
   "cell_type": "code",
   "execution_count": 1300,
   "metadata": {
    "collapsed": false
   },
   "outputs": [],
   "source": [
    "df.sort_values(by=[\"tick\", \"duration\"], inplace=True)"
   ]
  },
  {
   "cell_type": "code",
   "execution_count": 1301,
   "metadata": {
    "collapsed": false
   },
   "outputs": [
    {
     "data": {
      "text/html": [
       "<div>\n",
       "<table border=\"1\" class=\"dataframe\">\n",
       "  <thead>\n",
       "    <tr style=\"text-align: right;\">\n",
       "      <th></th>\n",
       "      <th>event_type_fun</th>\n",
       "      <th>tick</th>\n",
       "      <th>duration</th>\n",
       "      <th>pitch</th>\n",
       "      <th>velocity</th>\n",
       "    </tr>\n",
       "  </thead>\n",
       "  <tbody>\n",
       "    <tr>\n",
       "      <th>0</th>\n",
       "      <td>&lt;class 'midi.events.NoteOnEvent'&gt;</td>\n",
       "      <td>0</td>\n",
       "      <td>1760</td>\n",
       "      <td>a5</td>\n",
       "      <td>58</td>\n",
       "    </tr>\n",
       "    <tr>\n",
       "      <th>2</th>\n",
       "      <td>&lt;class 'midi.events.NoteOnEvent'&gt;</td>\n",
       "      <td>0</td>\n",
       "      <td>1760</td>\n",
       "      <td>c6</td>\n",
       "      <td>83</td>\n",
       "    </tr>\n",
       "    <tr>\n",
       "      <th>4</th>\n",
       "      <td>&lt;class 'midi.events.NoteOnEvent'&gt;</td>\n",
       "      <td>0</td>\n",
       "      <td>1760</td>\n",
       "      <td>e6</td>\n",
       "      <td>76</td>\n",
       "    </tr>\n",
       "    <tr>\n",
       "      <th>6</th>\n",
       "      <td>&lt;class 'midi.events.NoteOnEvent'&gt;</td>\n",
       "      <td>0</td>\n",
       "      <td>1760</td>\n",
       "      <td>g6</td>\n",
       "      <td>89</td>\n",
       "    </tr>\n",
       "    <tr>\n",
       "      <th>1</th>\n",
       "      <td>&lt;class 'midi.events.NoteOffEvent'&gt;</td>\n",
       "      <td>1760</td>\n",
       "      <td>1760</td>\n",
       "      <td>a5</td>\n",
       "      <td>0</td>\n",
       "    </tr>\n",
       "  </tbody>\n",
       "</table>\n",
       "</div>"
      ],
      "text/plain": [
       "                       event_type_fun  tick  duration pitch  velocity\n",
       "0   <class 'midi.events.NoteOnEvent'>     0      1760    a5        58\n",
       "2   <class 'midi.events.NoteOnEvent'>     0      1760    c6        83\n",
       "4   <class 'midi.events.NoteOnEvent'>     0      1760    e6        76\n",
       "6   <class 'midi.events.NoteOnEvent'>     0      1760    g6        89\n",
       "1  <class 'midi.events.NoteOffEvent'>  1760      1760    a5         0"
      ]
     },
     "execution_count": 1301,
     "metadata": {},
     "output_type": "execute_result"
    }
   ],
   "source": [
    "df.head(5)"
   ]
  },
  {
   "cell_type": "code",
   "execution_count": 1302,
   "metadata": {
    "collapsed": true
   },
   "outputs": [],
   "source": [
    "def add_tuples_to_track(track, df):\n",
    "    track.append(midi.InstrumentNameEvent(tick=0, text='Classic Electric Piano', data=[]))\n",
    "    for row in df.iterrows():\n",
    "        data = row[1]\n",
    "        track.append(data[\"event_type_fun\"](tick=data[\"tick\"],\n",
    "                                            velocity=data[\"velocity\"],\n",
    "                                            pitch=Note.index_from_string(data[\"pitch\"])))\n",
    "    return track"
   ]
  },
  {
   "cell_type": "code",
   "execution_count": 1303,
   "metadata": {
    "collapsed": false
   },
   "outputs": [],
   "source": [
    "track = add_tuples_to_track(track, df)"
   ]
  },
  {
   "cell_type": "markdown",
   "metadata": {},
   "source": [
    "# melody"
   ]
  },
  {
   "cell_type": "code",
   "execution_count": 1304,
   "metadata": {
    "collapsed": true
   },
   "outputs": [],
   "source": [
    "# class Melody:\n",
    "#     def __init__(self, melody_len=None, scale=None, quantization=None, note_density=None, note_len_choices=None,\n",
    "#                  available_notes=None):\n",
    "#         self.melody_len = melody_len\n",
    "#         self.quantization = quantization  # this maybe should be at note level only\n",
    "#         self.note_density = note_density  # proportion of available ticks (determined by quantization) occupied by notes\n",
    "#         self.note_len_choices = note_len_choices\n",
    "#         self.available_notes = available_notes\n",
    "#         self.number_of_notes = self._compute_num_notes()\n",
    "#         self.start_ticks = self._get_start_ticks()\n",
    "    \n",
    "#     def _compute_num_notes(self):\n",
    "#         return self.melody_len / self.quantization\n",
    "    \n",
    "#     def _get_start_ticks(self):\n",
    "#         return np.unique(sorted([find_nearest_note(random.randint(0, self.melody_len), self.quantization)\n",
    "#                                  for _ in range(self.number_of_notes)]))\n",
    "\n",
    "#     def create_melody(self):\n",
    "#         melody_notes = []\n",
    "#         for tick in self.start_ticks:\n",
    "#             melody_tuples = self._create_melody_note_tuple(tick)\n",
    "#             melody_notes.extend(melody_tuples)\n",
    "#         return melody_notes\n",
    "    \n",
    "#     def _create_melody_note_tuple(self, start_tick):\n",
    "#         note_id = str(uuid.uuid1())\n",
    "#         velocity = random.randint(50, 90)\n",
    "#         cur_note = random.choice(self.available_notes)\n",
    "#         cur_note = Note.index_from_string(cur_note.note + str(cur_note.octave))\n",
    "#         note_length = random.choice(self.note_len_choices)\n",
    "#         return [\n",
    "#             (note_id, midi.NoteOnEvent, start_tick, cur_note, note_length, velocity),\n",
    "#             (note_id, midi.NoteOffEvent, start_tick+note_length, cur_note, note_length, 0)\n",
    "#         ]"
   ]
  },
  {
   "cell_type": "code",
   "execution_count": 1305,
   "metadata": {
    "collapsed": false
   },
   "outputs": [],
   "source": [
    "# # note2self: hard-coded in melody: velocity of notes, octave\n",
    "# melody = Melody(\n",
    "#     melody_len=pc.bar*64,\n",
    "#     quantization=pc.sixteenth_note,\n",
    "#     note_density=.4,\n",
    "#     note_len_choices=[pc.quarter_note, pc.eighth_note, pc.sixteenth_note, pc.sixty_forth_note,\n",
    "#                       pc.half_note, pc.thirty_second_note],\n",
    "#     available_notes=[my_scale.get(x) for x in range(28, 37)])\n",
    "\n",
    "# my_melody = melody.create_melody()"
   ]
  },
  {
   "cell_type": "code",
   "execution_count": 1306,
   "metadata": {
    "collapsed": false
   },
   "outputs": [],
   "source": [
    "# rhythm_track = add_tuples_to_track(rhythm_track, my_rhythm)\n",
    "# melody_track = add_tuples_to_track(melody_track, my_melody)"
   ]
  },
  {
   "cell_type": "markdown",
   "metadata": {},
   "source": [
    "# end of track"
   ]
  },
  {
   "cell_type": "code",
   "execution_count": 1307,
   "metadata": {
    "collapsed": false
   },
   "outputs": [],
   "source": [
    "# Add the end of track event, append it to the track\n",
    "eot = midi.EndOfTrackEvent(tick=get_max_tick(track) + 2*pc.whole_note)  # probably an excessive buffer\n",
    "track.append(eot)\n",
    "\n",
    "# eot = midi.EndOfTrackEvent(tick=get_max_tick(melody_track) + 2*pc.whole_note)\n",
    "# melody_track.append(eot)"
   ]
  },
  {
   "cell_type": "code",
   "execution_count": 1308,
   "metadata": {
    "collapsed": false
   },
   "outputs": [],
   "source": [
    "track = make_ticks_rel(track)\n",
    "# melody_track = make_ticks_rel(melody_track)"
   ]
  },
  {
   "cell_type": "code",
   "execution_count": 1309,
   "metadata": {
    "collapsed": false,
    "scrolled": true
   },
   "outputs": [],
   "source": [
    "# track"
   ]
  },
  {
   "cell_type": "markdown",
   "metadata": {},
   "source": [
    "# write to file"
   ]
  },
  {
   "cell_type": "code",
   "execution_count": 1310,
   "metadata": {
    "collapsed": false
   },
   "outputs": [],
   "source": [
    "midi.write_midifile(\"example.mid\", pattern)"
   ]
  },
  {
   "cell_type": "code",
   "execution_count": 1311,
   "metadata": {
    "collapsed": true
   },
   "outputs": [],
   "source": [
    "import os"
   ]
  },
  {
   "cell_type": "code",
   "execution_count": 1312,
   "metadata": {
    "collapsed": false
   },
   "outputs": [],
   "source": [
    "# os.system(\"timidity /Users/jacknorman1/Documents/Programming/midi-skirt/example.mid\")"
   ]
  }
 ],
 "metadata": {
  "kernelspec": {
   "display_name": "Python 2",
   "language": "python",
   "name": "python2"
  },
  "language_info": {
   "codemirror_mode": {
    "name": "ipython",
    "version": 2
   },
   "file_extension": ".py",
   "mimetype": "text/x-python",
   "name": "python",
   "nbconvert_exporter": "python",
   "pygments_lexer": "ipython2",
   "version": "2.7.11"
  }
 },
 "nbformat": 4,
 "nbformat_minor": 1
}
