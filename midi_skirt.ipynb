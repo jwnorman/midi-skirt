{
 "cells": [
  {
   "cell_type": "markdown",
   "metadata": {},
   "source": [
    "# libs"
   ]
  },
  {
   "cell_type": "code",
   "execution_count": 19,
   "metadata": {
    "collapsed": true
   },
   "outputs": [],
   "source": [
    "import midi\n",
    "import numpy as np\n",
    "import pandas as pd\n",
    "import random\n",
    "import uuid\n",
    "\n",
    "# https://code.google.com/archive/p/python-musical/source/default/source\n",
    "# pretty awesome library. I downloaded the package from the above link and then extracted\n",
    "# the musical/ directory from python-musical/trunk/ and placed in sister midi-skirt/ (.gitignored). \n",
    "from musical.theory import Note, scale, Scale, Chord"
   ]
  },
  {
   "cell_type": "markdown",
   "metadata": {},
   "source": [
    "# constants"
   ]
  },
  {
   "cell_type": "code",
   "execution_count": 20,
   "metadata": {
    "collapsed": false
   },
   "outputs": [],
   "source": [
    "class PatternConstants:\n",
    "    def __init__(self, resolution=440):\n",
    "        self.resolution = resolution\n",
    "        self.quarter_note = resolution\n",
    "        self.half_note = resolution * 2\n",
    "        self.eighth_note = int(resolution / 2.0)\n",
    "        self.sixteenth_note = int(resolution / 4.0)\n",
    "        self.thirty_second_note = int(resolution / 8.0)\n",
    "        self.sixty_forth_note = int(resolution / 16.0)\n",
    "        self.whole_note = resolution * 4\n",
    "        self.bar = resolution * 4\n",
    "\n",
    "bpm = 160\n",
    "\n",
    "pc = PatternConstants()"
   ]
  },
  {
   "cell_type": "markdown",
   "metadata": {},
   "source": [
    "# pattern and track"
   ]
  },
  {
   "cell_type": "code",
   "execution_count": 21,
   "metadata": {
    "collapsed": false
   },
   "outputs": [],
   "source": [
    "pattern = midi.Pattern(resolution=pc.resolution)\n",
    "rhythm_track = midi.Track()\n",
    "melody_track = midi.Track()\n",
    "# tempo = midi.SetTempoEvent(bpm=120)\n",
    "# track.append(tempo)\n",
    "pattern.append(rhythm_track)\n",
    "pattern.append(melody_track)"
   ]
  },
  {
   "cell_type": "markdown",
   "metadata": {},
   "source": [
    "# helper flunctions"
   ]
  },
  {
   "cell_type": "code",
   "execution_count": 23,
   "metadata": {
    "collapsed": true
   },
   "outputs": [],
   "source": [
    "def find_nearest_note(value, note_type):\n",
    "    mod = value % note_type\n",
    "    if (mod > (note_type / 2.0)): # round up \n",
    "        return value + note_type - mod\n",
    "    else:\n",
    "        return value - mod"
   ]
  },
  {
   "cell_type": "code",
   "execution_count": 24,
   "metadata": {
    "collapsed": true
   },
   "outputs": [],
   "source": [
    "def make_ticks_rel(track):\n",
    "    number_before_negative = 0\n",
    "    running_tick = 0\n",
    "    for event in track:\n",
    "        event.tick -= running_tick\n",
    "        if event.tick >= 0:\n",
    "            number_before_negative += 1\n",
    "        else:\n",
    "            print number_before_negative\n",
    "        running_tick += event.tick\n",
    "    return track"
   ]
  },
  {
   "cell_type": "code",
   "execution_count": 25,
   "metadata": {
    "collapsed": true
   },
   "outputs": [],
   "source": [
    "def get_max_tick(track):\n",
    "    return max([event.tick for event in track])\n",
    "\n",
    "def get_min_tick(track):\n",
    "    return min([event.tick for event in track])"
   ]
  },
  {
   "cell_type": "code",
   "execution_count": null,
   "metadata": {
    "collapsed": true
   },
   "outputs": [],
   "source": [
    "def add_tuples_to_track(track, tuples):\n",
    "    all_note_events = pd.DataFrame(tuples)\n",
    "    all_note_events.columns = [\"note_id\", \"event_type_fun\", \"tick\", \"pitch\", \"note_length\", \"velocity\"]\n",
    "    all_note_events.sort_values(by=[\"tick\", \"note_length\"], inplace=True)\n",
    "    track.append(midi.InstrumentNameEvent(tick=0, text='Modern Classic', data=[]))\n",
    "    for row in all_note_events.iterrows():\n",
    "        data = row[1]\n",
    "        track.append(data[\"event_type_fun\"](tick=data[\"tick\"], velocity=data[\"velocity\"], pitch=data[\"pitch\"]))\n",
    "    return track"
   ]
  },
  {
   "cell_type": "markdown",
   "metadata": {},
   "source": [
    "# scale specs"
   ]
  },
  {
   "cell_type": "code",
   "execution_count": 26,
   "metadata": {
    "collapsed": false
   },
   "outputs": [
    {
     "data": {
      "text/plain": [
       "{'aeolian': (2, 1, 2, 2, 1, 2, 2),\n",
       " 'augmented': (3, 1, 3, 1, 3, 1),\n",
       " 'augmentedfifth': (2, 2, 1, 2, 1, 1, 2, 1),\n",
       " 'bluesmajor': (3, 2, 1, 1, 2, 3),\n",
       " 'bluesminor': (3, 2, 1, 1, 3, 2),\n",
       " 'chromatic': (1, 1, 1, 1, 1, 1, 1, 1, 1, 1, 1, 1),\n",
       " 'diminished': (2, 1, 2, 1, 2, 1, 2, 1),\n",
       " 'dorian': (2, 1, 2, 2, 2, 1, 2),\n",
       " 'halfwhole': (1, 2, 1, 2, 1, 2, 1, 2),\n",
       " 'harmonicminor': (2, 1, 2, 2, 1, 3, 1),\n",
       " 'ionian': (2, 2, 1, 2, 2, 2, 1),\n",
       " 'japanese': (1, 4, 2, 1, 4),\n",
       " 'locrian': (1, 2, 2, 1, 2, 2, 2),\n",
       " 'lydian': (2, 2, 2, 1, 2, 2, 1),\n",
       " 'major': (2, 2, 1, 2, 2, 2, 1),\n",
       " 'melodicminor': (2, 1, 2, 2, 2, 2, 1),\n",
       " 'minor': (2, 1, 2, 2, 1, 2, 2),\n",
       " 'mixolydian': (2, 2, 1, 2, 2, 1, 2),\n",
       " 'oriental': (1, 3, 1, 1, 3, 1, 2),\n",
       " 'pentatonicmajor': (2, 2, 3, 2, 3),\n",
       " 'pentatonicminor': (3, 2, 2, 3, 2),\n",
       " 'phrygian': (1, 2, 2, 2, 1, 2, 2),\n",
       " 'wholehalf': (2, 1, 2, 1, 2, 1, 2, 1),\n",
       " 'wholetone': (2, 2, 2, 2, 2, 2)}"
      ]
     },
     "execution_count": 26,
     "metadata": {},
     "output_type": "execute_result"
    }
   ],
   "source": [
    "scale.NAMED_SCALES"
   ]
  },
  {
   "cell_type": "code",
   "execution_count": 27,
   "metadata": {
    "collapsed": true
   },
   "outputs": [],
   "source": [
    "def get_list_of_chord_notes_from_chord(chord):\n",
    "    return [Note.index_from_string(chord_note.note + str(chord_note.octave)) for chord_note in my_chord]"
   ]
  },
  {
   "cell_type": "code",
   "execution_count": 28,
   "metadata": {
    "collapsed": true
   },
   "outputs": [],
   "source": [
    "root = Note(('C', 0))\n",
    "named_scale = scale.NAMED_SCALES['major']\n",
    "my_scale = Scale(root, named_scale)\n",
    "chords_in_scale = Chord.progression(my_scale, 5)\n",
    "# my_chords = chords_in_scale[0:4]\n",
    "my_chords = [chords_in_scale[0]] + [chords_in_scale[5]] + [chords_in_scale[3]] + [chords_in_scale[4]]\n",
    "#my_chord = Chord.fromscale(root, my_scale)\n",
    "chord_notes = [get_list_of_chord_notes_from_chord(my_chord) for my_chord in my_chords]"
   ]
  },
  {
   "cell_type": "code",
   "execution_count": 29,
   "metadata": {
    "collapsed": false
   },
   "outputs": [
    {
     "data": {
      "text/plain": [
       "[Chord((Note('c5'), Note('e5'), Note('g5'))),\n",
       " Chord((Note('d5'), Note('f5'), Note('a5'))),\n",
       " Chord((Note('e5'), Note('g5'), Note('b5'))),\n",
       " Chord((Note('f5'), Note('a5'), Note('c6'))),\n",
       " Chord((Note('g5'), Note('b5'), Note('d6'))),\n",
       " Chord((Note('a5'), Note('c6'), Note('e6'))),\n",
       " Chord((Note('b5'), Note('d6'), Note('f6')))]"
      ]
     },
     "execution_count": 29,
     "metadata": {},
     "output_type": "execute_result"
    }
   ],
   "source": [
    "chords_in_scale"
   ]
  },
  {
   "cell_type": "code",
   "execution_count": 30,
   "metadata": {
    "collapsed": false
   },
   "outputs": [
    {
     "data": {
      "text/plain": [
       "[[60, 64, 67], [69, 72, 76], [65, 69, 72], [67, 71, 74]]"
      ]
     },
     "execution_count": 30,
     "metadata": {},
     "output_type": "execute_result"
    }
   ],
   "source": [
    "chord_notes"
   ]
  },
  {
   "cell_type": "markdown",
   "metadata": {},
   "source": [
    "# chord rhythm\n",
    "really this is just a melody but with chords. eventually I should just use Melody. Rhythm should be agnostic to notes or scale"
   ]
  },
  {
   "cell_type": "code",
   "execution_count": 31,
   "metadata": {
    "collapsed": true
   },
   "outputs": [],
   "source": [
    "class Rhythm:\n",
    "    def __init__(self, rhythm_len=None, start_tick=None, quantization=None, chord_density=None, note_len_choices=None,\n",
    "                chord_notes=None):\n",
    "        self.rhythm_len = rhythm_len\n",
    "        self.start_tick = start_tick\n",
    "        self.quantization = quantization  # this maybe should be at note level only\n",
    "        self.chord_density = chord_density  # proportion of available ticks (determined by quantization) occupied by chords\n",
    "        self.note_len_choices = note_len_choices\n",
    "        self.chord_notes = chord_notes\n",
    "        self.number_of_chords = self._compute_num_chords()\n",
    "        self.start_ticks = self._get_start_ticks()\n",
    "    \n",
    "    def _compute_num_chords(self):\n",
    "        return self.rhythm_len / self.quantization\n",
    "    \n",
    "    def _get_start_ticks(self):\n",
    "        return np.unique(sorted([find_nearest_note(random.randint(0, self.rhythm_len), self.quantization)\n",
    "                                 for _ in range(self.number_of_chords)]))\n",
    "\n",
    "    def create_rhythm(self):\n",
    "        rhythm = []\n",
    "        for tick in self.start_ticks:\n",
    "            tick += self.start_tick\n",
    "            chord_tuples = self._create_note_tuples_from_chord(tick, self.chord_notes)\n",
    "            rhythm.extend(chord_tuples)\n",
    "        return rhythm\n",
    "    \n",
    "    def _create_note_tuples_from_chord(self, start_tick, notes):\n",
    "        # returns a list of 2*len(notes) tuples: [(note_id, event_type, tick, note, velocity)]\n",
    "        ret = []\n",
    "        note_length = random.choice(self.note_len_choices)\n",
    "        for note in notes:\n",
    "            notes_created = self._create_note_tuple(start_tick, note, note_length, random.randint(50, 90))\n",
    "            ret.extend(notes_created)\n",
    "        return ret\n",
    "\n",
    "    def _create_note_tuple(self, start_tick, note, note_length, velocity):\n",
    "        # returns a list of two tuples: (note_id, event_type, tick, note, velocity)\n",
    "        note_id = str(uuid.uuid1())\n",
    "        return [\n",
    "            (note_id, midi.NoteOnEvent, start_tick, note, note_length, velocity),\n",
    "            (note_id, midi.NoteOffEvent, start_tick+note_length, note, note_length, 0)\n",
    "        ]"
   ]
  },
  {
   "cell_type": "code",
   "execution_count": 32,
   "metadata": {
    "collapsed": false
   },
   "outputs": [],
   "source": [
    "# hard-coded in melody: velocity of notes, octave\n",
    "rhythm = Rhythm(\n",
    "    rhythm_len=pc.bar*64,\n",
    "    start_tick=0,\n",
    "    quantization=pc.eighth_note,\n",
    "    chord_density=.1,\n",
    "    note_len_choices=[pc.quarter_note, pc.eighth_note, pc.sixteenth_note, pc.thirty_second_note,\n",
    "                      pc.half_note, pc.sixty_forth_note],\n",
    "    chord_notes=None)\n",
    "\n",
    "# my_rhythm = rhythm.create_rhythm()"
   ]
  },
  {
   "cell_type": "code",
   "execution_count": null,
   "metadata": {
    "collapsed": false
   },
   "outputs": [],
   "source": []
  },
  {
   "cell_type": "markdown",
   "metadata": {
    "collapsed": true
   },
   "source": [
    "# chord progression specs"
   ]
  },
  {
   "cell_type": "code",
   "execution_count": 33,
   "metadata": {
    "collapsed": true
   },
   "outputs": [],
   "source": [
    "mel_len = 64 * pc.bar\n",
    "changes = np.arange(0, mel_len, 2*c.bar)\n",
    "chords = chord_notes * 8"
   ]
  },
  {
   "cell_type": "code",
   "execution_count": 34,
   "metadata": {
    "collapsed": true
   },
   "outputs": [],
   "source": [
    "class ChordProgression:\n",
    "    def __init__(self, chords=None, start_ticks=None):\n",
    "        self.chords = chords\n",
    "        self.start_ticks = start_ticks\n",
    "    \n",
    "    def create_rhythms(self):\n",
    "        all_rhythms = []\n",
    "        for i in range(len(self.chords)):\n",
    "            all_rhythms.extend(self.create_rhythm(\n",
    "                    start_tick=self.start_ticks[i],\n",
    "                    chord_notes=self.chords[i]))\n",
    "        return all_rhythms\n",
    "    \n",
    "    def create_rhythm(self, start_tick, chord_notes):\n",
    "        rhythm = Rhythm(\n",
    "            rhythm_len=np.diff(self.start_ticks)[0],\n",
    "            start_tick=start_tick,\n",
    "            quantization=pc.eighth_note,\n",
    "            chord_density=.1,\n",
    "            note_len_choices=[pc.quarter_note, pc.eighth_note, pc.sixteenth_note, pc.thirty_second_note,\n",
    "                              pc.half_note, pc.sixty_forth_note],\n",
    "            chord_notes=chord_notes)\n",
    "\n",
    "        return rhythm.create_rhythm()"
   ]
  },
  {
   "cell_type": "code",
   "execution_count": 35,
   "metadata": {
    "collapsed": true
   },
   "outputs": [],
   "source": [
    "cp = ChordProgression(chords, changes)"
   ]
  },
  {
   "cell_type": "code",
   "execution_count": 36,
   "metadata": {
    "collapsed": true
   },
   "outputs": [],
   "source": [
    "my_rhythm = cp.create_rhythms()"
   ]
  },
  {
   "cell_type": "code",
   "execution_count": null,
   "metadata": {
    "collapsed": true
   },
   "outputs": [],
   "source": []
  },
  {
   "cell_type": "markdown",
   "metadata": {},
   "source": [
    "# melody"
   ]
  },
  {
   "cell_type": "code",
   "execution_count": 37,
   "metadata": {
    "collapsed": true
   },
   "outputs": [],
   "source": [
    "class Melody:\n",
    "    def __init__(self, melody_len=None, scale=None, quantization=None, note_density=None, note_len_choices=None,\n",
    "                 available_notes=None):\n",
    "        self.melody_len = melody_len\n",
    "        self.quantization = quantization  # this maybe should be at note level only\n",
    "        self.note_density = note_density  # proportion of available ticks (determined by quantization) occupied by notes\n",
    "        self.note_len_choices = note_len_choices\n",
    "        self.available_notes = available_notes\n",
    "        self.number_of_notes = self._compute_num_notes()\n",
    "        self.start_ticks = self._get_start_ticks()\n",
    "    \n",
    "    def _compute_num_notes(self):\n",
    "        return self.melody_len / self.quantization\n",
    "    \n",
    "    def _get_start_ticks(self):\n",
    "        return np.unique(sorted([find_nearest_note(random.randint(0, self.melody_len), self.quantization)\n",
    "                                 for _ in range(self.number_of_notes)]))\n",
    "\n",
    "    def create_melody(self):\n",
    "        melody_notes = []\n",
    "        for tick in self.start_ticks:\n",
    "            melody_tuples = self._create_melody_note_tuple(tick)\n",
    "            melody_notes.extend(melody_tuples)\n",
    "        return melody_notes\n",
    "    \n",
    "    def _create_melody_note_tuple(self, start_tick):\n",
    "        note_id = str(uuid.uuid1())\n",
    "        velocity = random.randint(50, 90)\n",
    "        cur_note = random.choice(self.available_notes)\n",
    "        cur_note = Note.index_from_string(cur_note.note + str(cur_note.octave))\n",
    "        note_length = random.choice(self.note_len_choices)\n",
    "        return [\n",
    "            (note_id, midi.NoteOnEvent, start_tick, cur_note, note_length, velocity),\n",
    "            (note_id, midi.NoteOffEvent, start_tick+note_length, cur_note, note_length, 0)\n",
    "        ]"
   ]
  },
  {
   "cell_type": "code",
   "execution_count": 38,
   "metadata": {
    "collapsed": false
   },
   "outputs": [],
   "source": [
    "# note2self: hard-coded in melody: velocity of notes, octave\n",
    "melody = Melody(\n",
    "    melody_len=pc.bar*64,\n",
    "    quantization=pc.sixteenth_note,\n",
    "    note_density=.4,\n",
    "    note_len_choices=[pc.quarter_note, pc.eighth_note, pc.sixteenth_note, pc.sixty_forth_note,\n",
    "                      pc.half_note, pc.thirty_second_note],\n",
    "    available_notes=[my_scale.get(x) for x in range(28, 37)])\n",
    "\n",
    "my_melody = melody.create_melody()"
   ]
  },
  {
   "cell_type": "code",
   "execution_count": 40,
   "metadata": {
    "collapsed": false
   },
   "outputs": [],
   "source": [
    "rhythm_track = add_tuples_to_track(rhythm_track, my_rhythm)\n",
    "melody_track = add_tuples_to_track(melody_track, my_melody)"
   ]
  },
  {
   "cell_type": "markdown",
   "metadata": {},
   "source": [
    "# end of track"
   ]
  },
  {
   "cell_type": "code",
   "execution_count": 41,
   "metadata": {
    "collapsed": false
   },
   "outputs": [],
   "source": [
    "# Add the end of track event, append it to the track\n",
    "eot = midi.EndOfTrackEvent(tick=get_max_tick(rhythm_track) + 2*pc.whole_note)  # probably an excessive buffer\n",
    "rhythm_track.append(eot)\n",
    "\n",
    "eot = midi.EndOfTrackEvent(tick=get_max_tick(melody_track) + 2*pc.whole_note)\n",
    "melody_track.append(eot)"
   ]
  },
  {
   "cell_type": "code",
   "execution_count": 42,
   "metadata": {
    "collapsed": false
   },
   "outputs": [],
   "source": [
    "rhythm_track = make_ticks_rel(rhythm_track)\n",
    "melody_track = make_ticks_rel(melody_track)"
   ]
  },
  {
   "cell_type": "markdown",
   "metadata": {},
   "source": [
    "# write to file"
   ]
  },
  {
   "cell_type": "code",
   "execution_count": 43,
   "metadata": {
    "collapsed": false
   },
   "outputs": [],
   "source": [
    "midi.write_midifile(\"example.mid\", pattern)"
   ]
  },
  {
   "cell_type": "code",
   "execution_count": null,
   "metadata": {
    "collapsed": true
   },
   "outputs": [],
   "source": []
  }
 ],
 "metadata": {
  "kernelspec": {
   "display_name": "Python 2",
   "language": "python",
   "name": "python2"
  },
  "language_info": {
   "codemirror_mode": {
    "name": "ipython",
    "version": 2
   },
   "file_extension": ".py",
   "mimetype": "text/x-python",
   "name": "python",
   "nbconvert_exporter": "python",
   "pygments_lexer": "ipython2",
   "version": "2.7.11"
  }
 },
 "nbformat": 4,
 "nbformat_minor": 1
}
