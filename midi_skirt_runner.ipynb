{
 "cells": [
  {
   "cell_type": "code",
   "execution_count": 1,
   "metadata": {
    "collapsed": true
   },
   "outputs": [],
   "source": [
    "import os\n",
    "\n",
    "from midi_skirt import *"
   ]
  },
  {
   "cell_type": "code",
   "execution_count": 2,
   "metadata": {
    "collapsed": true
   },
   "outputs": [],
   "source": [
    "pc = PatternConstants()\n",
    "\n",
    "pattern = midi.Pattern(resolution=pc.resolution)\n",
    "track = midi.Track()\n",
    "pattern.append(track)"
   ]
  },
  {
   "cell_type": "code",
   "execution_count": null,
   "metadata": {
    "collapsed": true
   },
   "outputs": [],
   "source": []
  },
  {
   "cell_type": "markdown",
   "metadata": {},
   "source": [
    "# Chord Progression Examples"
   ]
  },
  {
   "cell_type": "markdown",
   "metadata": {},
   "source": [
    "## Method 1: Building from intervals"
   ]
  },
  {
   "cell_type": "code",
   "execution_count": 3,
   "metadata": {
    "collapsed": true
   },
   "outputs": [],
   "source": [
    "c7sharp9 = ChordBuilder().build_from_intervals(\"C\", 5, [\"1\", \"3\", \"5\", \"b7\", \"#9\"])\n",
    "am7 = ChordBuilder().build_from_intervals(\"A\", 5, [\"1\", \"b3\", \"5\", \"b7\"])\n",
    "g6 = ChordBuilder().build_from_intervals(\"G\", 5, [\"1\", \"3\", \"5\", \"6\"])\n",
    "f69 = ChordBuilder().build_from_intervals(\"F\", 5, [\"1\", \"3\", \"5\", \"6\", \"9\"])\n",
    "bb13 = ChordBuilder().build_from_intervals(\"Bb\", 5, [\"1\", \"3\", \"5\", \"b7\", \"9\", \"13\"])\n",
    "\n",
    "chord_progression = ChordProgression(\n",
    "    chords=[am7, g6, f69, bb13],\n",
    "    changes=[pc.bar, pc.bar, pc.bar, pc.bar]\n",
    ")\n",
    "\n",
    "chord_progression.repeat_progression(18)"
   ]
  },
  {
   "cell_type": "markdown",
   "metadata": {},
   "source": [
    "## Method 2: Building randomly from scale"
   ]
  },
  {
   "cell_type": "code",
   "execution_count": 4,
   "metadata": {
    "collapsed": true
   },
   "outputs": [],
   "source": [
    "num_chords_and_changes = 64\n",
    "chord_progression = ChordProgression(\n",
    "    changes=[pc.bar] * num_chords_and_changes\n",
    ")\n",
    "\n",
    "chord_progression.build_progression_randomly_from_scale(\"C\", 5, \"major\", num_chords_and_changes)"
   ]
  },
  {
   "cell_type": "code",
   "execution_count": null,
   "metadata": {
    "collapsed": true
   },
   "outputs": [],
   "source": []
  },
  {
   "cell_type": "markdown",
   "metadata": {},
   "source": [
    "# Rhythm Examples"
   ]
  },
  {
   "cell_type": "markdown",
   "metadata": {},
   "source": [
    "## Example 1: Medium note density, granular quantization, varying note durations"
   ]
  },
  {
   "cell_type": "code",
   "execution_count": 5,
   "metadata": {
    "collapsed": true
   },
   "outputs": [],
   "source": [
    "rhythm = Rhythm(rhythm_len=pc.bar * 64, start_tick=2, quantization=pc.sixteenth_note)\n",
    "rhythm.build_rhythm_randomly(\n",
    "    note_density=.5,\n",
    "    note_len_choices=[pc.sixteenth_note, pc.thirty_second_note, pc.eighth_note, pc.quarter_note, pc.whole_note])"
   ]
  },
  {
   "cell_type": "markdown",
   "metadata": {},
   "source": [
    "## Example 2: High note density, coarse quantization, bar-length durations"
   ]
  },
  {
   "cell_type": "code",
   "execution_count": 6,
   "metadata": {
    "collapsed": true
   },
   "outputs": [],
   "source": [
    "rhythm = Rhythm(rhythm_len=pc.bar * 64, start_tick=2, quantization=pc.bar)\n",
    "rhythm.build_rhythm_randomly(\n",
    "    note_density=10.0,\n",
    "    note_len_choices=[pc.whole_note])"
   ]
  },
  {
   "cell_type": "code",
   "execution_count": null,
   "metadata": {
    "collapsed": true
   },
   "outputs": [],
   "source": []
  },
  {
   "cell_type": "markdown",
   "metadata": {},
   "source": [
    "# Sync the chord progression with the rhythm"
   ]
  },
  {
   "cell_type": "code",
   "execution_count": 7,
   "metadata": {
    "collapsed": false
   },
   "outputs": [],
   "source": [
    "cpr = ChordProgressionRhythm(rhythm, chord_progression)\n",
    "\n",
    "all_staged_events = []\n",
    "for chord in cpr.chords:\n",
    "    for staged_event in chord.staged_events:\n",
    "        all_staged_events.append(staged_event)\n",
    "df = convert_staging_events_to_dataframe(all_staged_events)\n",
    "df.sort_values(by=[\"tick\", \"duration\"], inplace=True)"
   ]
  },
  {
   "cell_type": "code",
   "execution_count": null,
   "metadata": {
    "collapsed": true
   },
   "outputs": [],
   "source": []
  },
  {
   "cell_type": "markdown",
   "metadata": {},
   "source": [
    "# Finish and write to midi file"
   ]
  },
  {
   "cell_type": "code",
   "execution_count": null,
   "metadata": {
    "collapsed": false
   },
   "outputs": [],
   "source": [
    "# add to track\n",
    "track = add_tuples_to_track(track, df)\n",
    "\n",
    "# Add the end of track event, append it to the track\n",
    "eot = midi.EndOfTrackEvent(tick=get_max_tick(track) + 2 * pc.whole_note)\n",
    "track.append(eot)\n",
    "\n",
    "track = make_ticks_rel(track)\n",
    "\n",
    "midi.write_midifile(\"example.mid\", pattern)\n",
    "\n",
    "os.system(\"timidity /Users/jacknorman1/Documents/Programming/midi-skirt/example.mid\")"
   ]
  }
 ],
 "metadata": {
  "kernelspec": {
   "display_name": "Python 2",
   "language": "python",
   "name": "python2"
  },
  "language_info": {
   "codemirror_mode": {
    "name": "ipython",
    "version": 2
   },
   "file_extension": ".py",
   "mimetype": "text/x-python",
   "name": "python",
   "nbconvert_exporter": "python",
   "pygments_lexer": "ipython2",
   "version": "2.7.11"
  }
 },
 "nbformat": 4,
 "nbformat_minor": 0
}
