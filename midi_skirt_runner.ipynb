{
 "cells": [
  {
   "cell_type": "markdown",
   "metadata": {},
   "source": [
    "<h1>Table of Contents<span class=\"tocSkip\"></span></h1>\n",
    "<div class=\"toc\"><ul class=\"toc-item\"><li><span><a href=\"#Chord-Progression-Examples\" data-toc-modified-id=\"Chord-Progression-Examples-1\"><span class=\"toc-item-num\">1&nbsp;&nbsp;</span>Chord Progression Examples</a></span><ul class=\"toc-item\"><li><span><a href=\"#Method-1:-Building-from-intervals\" data-toc-modified-id=\"Method-1:-Building-from-intervals-1.1\"><span class=\"toc-item-num\">1.1&nbsp;&nbsp;</span>Method 1: Building from intervals</a></span></li><li><span><a href=\"#Method-2:-Building-randomly-from-scale\" data-toc-modified-id=\"Method-2:-Building-randomly-from-scale-1.2\"><span class=\"toc-item-num\">1.2&nbsp;&nbsp;</span>Method 2: Building randomly from scale</a></span></li></ul></li><li><span><a href=\"#Rhythm-Examples\" data-toc-modified-id=\"Rhythm-Examples-2\"><span class=\"toc-item-num\">2&nbsp;&nbsp;</span>Rhythm Examples</a></span><ul class=\"toc-item\"><li><span><a href=\"#Example-1:-Medium-note-density,-granular-quantization,-varying-note-durations\" data-toc-modified-id=\"Example-1:-Medium-note-density,-granular-quantization,-varying-note-durations-2.1\"><span class=\"toc-item-num\">2.1&nbsp;&nbsp;</span>Example 1: Medium note density, granular quantization, varying note durations</a></span></li><li><span><a href=\"#Example-2:-High-note-density,-coarse-quantization,-bar-length-durations\" data-toc-modified-id=\"Example-2:-High-note-density,-coarse-quantization,-bar-length-durations-2.2\"><span class=\"toc-item-num\">2.2&nbsp;&nbsp;</span>Example 2: High note density, coarse quantization, bar-length durations</a></span></li><li><span><a href=\"#Example-3:-Triplets-Durations-(subtle)\" data-toc-modified-id=\"Example-3:-Triplets-Durations-(subtle)-2.3\"><span class=\"toc-item-num\">2.3&nbsp;&nbsp;</span>Example 3: Triplets Durations (subtle)</a></span></li><li><span><a href=\"#Example-4:-Triplet-Quantization\" data-toc-modified-id=\"Example-4:-Triplet-Quantization-2.4\"><span class=\"toc-item-num\">2.4&nbsp;&nbsp;</span>Example 4: Triplet Quantization</a></span></li><li><span><a href=\"#Example-5:-Fifth-Quantization\" data-toc-modified-id=\"Example-5:-Fifth-Quantization-2.5\"><span class=\"toc-item-num\">2.5&nbsp;&nbsp;</span>Example 5: Fifth Quantization</a></span></li><li><span><a href=\"#Example-6:-Seventh-Quantization\" data-toc-modified-id=\"Example-6:-Seventh-Quantization-2.6\"><span class=\"toc-item-num\">2.6&nbsp;&nbsp;</span>Example 6: Seventh Quantization</a></span></li><li><span><a href=\"#Example-7:-Ninth-Quantization\" data-toc-modified-id=\"Example-7:-Ninth-Quantization-2.7\"><span class=\"toc-item-num\">2.7&nbsp;&nbsp;</span>Example 7: Ninth Quantization</a></span></li><li><span><a href=\"#Example-8:-Adding-emphasis-randomly\" data-toc-modified-id=\"Example-8:-Adding-emphasis-randomly-2.8\"><span class=\"toc-item-num\">2.8&nbsp;&nbsp;</span>Example 8: Adding emphasis randomly</a></span></li><li><span><a href=\"#Example-9:-Adding-emphasis-directly\" data-toc-modified-id=\"Example-9:-Adding-emphasis-directly-2.9\"><span class=\"toc-item-num\">2.9&nbsp;&nbsp;</span>Example 9: Adding emphasis directly</a></span></li><li><span><a href=\"#Example-10:-Adding-emphasis-randomly-2\" data-toc-modified-id=\"Example-10:-Adding-emphasis-randomly-2-2.10\"><span class=\"toc-item-num\">2.10&nbsp;&nbsp;</span>Example 10: Adding emphasis randomly 2</a></span></li></ul></li><li><span><a href=\"#Sync-the-chord-progression-with-the-rhythm\" data-toc-modified-id=\"Sync-the-chord-progression-with-the-rhythm-3\"><span class=\"toc-item-num\">3&nbsp;&nbsp;</span>Sync the chord progression with the rhythm</a></span></li><li><span><a href=\"#Finish-and-write-to-midi-file\" data-toc-modified-id=\"Finish-and-write-to-midi-file-4\"><span class=\"toc-item-num\">4&nbsp;&nbsp;</span>Finish and write to midi file</a></span></li></ul></div>"
   ]
  },
  {
   "cell_type": "code",
   "execution_count": 408,
   "metadata": {},
   "outputs": [],
   "source": [
    "import os\n",
    "\n",
    "from midi_skirt import *"
   ]
  },
  {
   "cell_type": "code",
   "execution_count": 409,
   "metadata": {},
   "outputs": [],
   "source": [
    "pattern = midi.Pattern(resolution=pc.resolution)\n",
    "track = midi.Track()\n",
    "pattern.append(track)"
   ]
  },
  {
   "cell_type": "code",
   "execution_count": 410,
   "metadata": {},
   "outputs": [],
   "source": [
    "bpm = 120\n",
    "numerator = 7\n",
    "denominator = 8\n",
    "track.append(midi.SetTempoEvent(bpm=bpm))\n",
    "track.append(midi.TimeSignatureEvent(numerator=numerator, denominator=denominator))"
   ]
  },
  {
   "cell_type": "code",
   "execution_count": 411,
   "metadata": {},
   "outputs": [],
   "source": [
    "pc = PatternConstants(resolution=440, beats_per_bar=numerator*2)"
   ]
  },
  {
   "cell_type": "code",
   "execution_count": 412,
   "metadata": {},
   "outputs": [
    {
     "data": {
      "text/plain": [
       "['major',\n",
       " 'wholetone',\n",
       " 'melodicminor',\n",
       " 'harmonicminor',\n",
       " 'wholehalf',\n",
       " 'bluesminor',\n",
       " 'chromatic',\n",
       " 'ionian',\n",
       " 'augmentedfifth',\n",
       " 'locrian',\n",
       " 'oriental',\n",
       " 'minor',\n",
       " 'mixolydian',\n",
       " 'japanese',\n",
       " 'pentatonicminor',\n",
       " 'lydian',\n",
       " 'phrygian',\n",
       " 'halfwhole',\n",
       " 'diminished',\n",
       " 'pentatonicmajor',\n",
       " 'aeolian',\n",
       " 'dorian',\n",
       " 'bluesmajor',\n",
       " 'augmented']"
      ]
     },
     "execution_count": 412,
     "output_type": "execute_result",
     "metadata": {}
    }
   ],
   "source": [
    "scale.NAMED_SCALES.keys()"
   ]
  },
  {
   "cell_type": "markdown",
   "metadata": {},
   "source": [
    "# Chord Progression Examples"
   ]
  },
  {
   "cell_type": "markdown",
   "metadata": {},
   "source": [
    "## Method 1: Building from intervals"
   ]
  },
  {
   "cell_type": "code",
   "execution_count": 413,
   "metadata": {},
   "outputs": [],
   "source": [
    "c7sharp9 = ChordBuilder().build_from_intervals(\"C\", 5, [\"1\", \"3\", \"5\", \"b7\", \"#9\"])\n",
    "am7 = ChordBuilder().build_from_intervals(\"A\", 5, [\"1\", \"b3\", \"5\", \"b7\"])\n",
    "g6 = ChordBuilder().build_from_intervals(\"G\", 5, [\"1\", \"3\", \"5\", \"6\"])\n",
    "f69 = ChordBuilder().build_from_intervals(\"F\", 5, [\"1\", \"3\", \"5\", \"6\", \"9\"])\n",
    "bb13 = ChordBuilder().build_from_intervals(\"Bb\", 5, [\"1\", \"3\", \"5\", \"b7\", \"9\", \"13\"])\n",
    "\n",
    "chord_progression = ChordProgression(\n",
    "    chords=[am7, g6, f69, bb13],\n",
    "    changes=[pc.bar, pc.bar, pc.bar, pc.bar]\n",
    ")\n",
    "\n",
    "chord_progression.repeat_progression(18)"
   ]
  },
  {
   "cell_type": "markdown",
   "metadata": {},
   "source": [
    "## Method 2: Building randomly from scale"
   ]
  },
  {
   "cell_type": "code",
   "execution_count": 414,
   "metadata": {},
   "outputs": [],
   "source": [
    "num_chords_and_changes = 64\n",
    "chord_progression = ChordProgression(\n",
    "    changes=[pc.bar] * num_chords_and_changes\n",
    ")\n",
    "\n",
    "chord_progression.build_progression_randomly_from_scale(\"G\", 4, \"locrian\", num_chords_and_changes)"
   ]
  },
  {
   "cell_type": "markdown",
   "metadata": {},
   "source": [
    "# Rhythm Examples"
   ]
  },
  {
   "cell_type": "markdown",
   "metadata": {},
   "source": [
    "## Example 1: Medium note density, granular quantization, varying note durations"
   ]
  },
  {
   "cell_type": "code",
   "execution_count": 415,
   "metadata": {},
   "outputs": [],
   "source": [
    "# rhythm specs\n",
    "rhythm_len = pc.bar * 64\n",
    "start_tick = 0\n",
    "quantization = pc.sixteenth_note\n",
    "note_density = .5\n",
    "note_len_choices = pc.get_notes_2()"
   ]
  },
  {
   "cell_type": "code",
   "execution_count": 416,
   "metadata": {},
   "outputs": [],
   "source": [
    "rhythm = Rhythm(rhythm_len=rhythm_len, start_tick=start_tick, quantization=quantization)\n",
    "rhythm.build_rhythm_randomly(note_density=note_density, note_len_choices=note_len_choices)"
   ]
  },
  {
   "cell_type": "markdown",
   "metadata": {},
   "source": [
    "## Example 2: High note density, coarse quantization, bar-length durations"
   ]
  },
  {
   "cell_type": "code",
   "execution_count": 417,
   "metadata": {},
   "outputs": [],
   "source": [
    "# rhythm specs\n",
    "rhythm_len = pc.bar * 64\n",
    "start_tick = 0\n",
    "quantization = pc.beat\n",
    "note_density = 10.0\n",
    "note_len_choices = [pc.beat]"
   ]
  },
  {
   "cell_type": "code",
   "execution_count": 418,
   "metadata": {},
   "outputs": [],
   "source": [
    "rhythm = Rhythm(rhythm_len=rhythm_len, start_tick=start_tick, quantization=quantization)\n",
    "rhythm.build_rhythm_randomly(note_density=note_density, note_len_choices=note_len_choices)"
   ]
  },
  {
   "cell_type": "markdown",
   "metadata": {},
   "source": [
    "## Example 3: Triplets Durations (subtle)"
   ]
  },
  {
   "cell_type": "code",
   "execution_count": 419,
   "metadata": {},
   "outputs": [],
   "source": [
    "# # rhythm specs\n",
    "# rhythm_len = pc.bar * 64\n",
    "# start_tick = 0\n",
    "# quantization = pc.half_note\n",
    "# note_density = 10.0\n",
    "# note_len_choices = pc.get_notes_3()"
   ]
  },
  {
   "cell_type": "code",
   "execution_count": 420,
   "metadata": {},
   "outputs": [],
   "source": [
    "rhythm = Rhythm(rhythm_len=rhythm_len, start_tick=start_tick, quantization=quantization)\n",
    "rhythm.build_rhythm_randomly(note_density=note_density, note_len_choices=note_len_choices)"
   ]
  },
  {
   "cell_type": "markdown",
   "metadata": {},
   "source": [
    "## Example 4: Triplet Quantization"
   ]
  },
  {
   "cell_type": "code",
   "execution_count": 421,
   "metadata": {},
   "outputs": [],
   "source": [
    "# # rhythm specs\n",
    "# rhythm_len = pc.bar * 64\n",
    "# start_tick = 0\n",
    "# quantization = pc.half_triplet\n",
    "# note_density = 10.0\n",
    "# note_len_choices = pc.get_notes_3()"
   ]
  },
  {
   "cell_type": "code",
   "execution_count": 422,
   "metadata": {},
   "outputs": [],
   "source": [
    "rhythm = Rhythm(rhythm_len=rhythm_len, start_tick=start_tick, quantization=quantization)\n",
    "rhythm.build_rhythm_randomly(note_density=note_density, note_len_choices=note_len_choices)"
   ]
  },
  {
   "cell_type": "markdown",
   "metadata": {},
   "source": [
    "## Example 5: Fifth Quantization"
   ]
  },
  {
   "cell_type": "code",
   "execution_count": 423,
   "metadata": {},
   "outputs": [],
   "source": [
    "# # rhythm specs\n",
    "# rhythm_len = pc.bar * 64\n",
    "# start_tick = 0\n",
    "# quantization = pc.half_fifth\n",
    "# note_density = 10.0\n",
    "# note_len_choices = pc.get_notes_5()"
   ]
  },
  {
   "cell_type": "code",
   "execution_count": 424,
   "metadata": {},
   "outputs": [],
   "source": [
    "rhythm = Rhythm(rhythm_len=rhythm_len, start_tick=start_tick, quantization=quantization)\n",
    "rhythm.build_rhythm_randomly(note_density=note_density, note_len_choices=note_len_choices)"
   ]
  },
  {
   "cell_type": "markdown",
   "metadata": {},
   "source": [
    "## Example 6: Seventh Quantization"
   ]
  },
  {
   "cell_type": "code",
   "execution_count": 425,
   "metadata": {},
   "outputs": [],
   "source": [
    "# # rhythm specs\n",
    "# rhythm_len = pc.bar * 64\n",
    "# start_tick = 0\n",
    "# quantization = pc.half_seventh\n",
    "# note_density = 10.0\n",
    "# note_len_choices = pc.get_notes_7()"
   ]
  },
  {
   "cell_type": "code",
   "execution_count": 426,
   "metadata": {},
   "outputs": [],
   "source": [
    "rhythm = Rhythm(rhythm_len=rhythm_len, start_tick=start_tick, quantization=quantization)\n",
    "rhythm.build_rhythm_randomly(note_density=note_density, note_len_choices=note_len_choices)"
   ]
  },
  {
   "cell_type": "markdown",
   "metadata": {},
   "source": [
    "## Example 7: Ninth Quantization"
   ]
  },
  {
   "cell_type": "code",
   "execution_count": 427,
   "metadata": {},
   "outputs": [],
   "source": [
    "# # rhythm specs\n",
    "# rhythm_len = pc.bar * 64\n",
    "# start_tick = 0\n",
    "# quantization = pc.half_ninth\n",
    "# note_density = 10.0\n",
    "# note_len_choices = pc.get_notes_9()"
   ]
  },
  {
   "cell_type": "code",
   "execution_count": 428,
   "metadata": {},
   "outputs": [],
   "source": [
    "rhythm = Rhythm(rhythm_len=rhythm_len, start_tick=start_tick, quantization=quantization)\n",
    "rhythm.build_rhythm_randomly(note_density=note_density, note_len_choices=note_len_choices)"
   ]
  },
  {
   "cell_type": "markdown",
   "metadata": {},
   "source": [
    "## Example 8: Adding emphasis randomly"
   ]
  },
  {
   "cell_type": "code",
   "execution_count": 429,
   "metadata": {},
   "outputs": [],
   "source": [
    "def example_8():\n",
    "    # rhythm specs\n",
    "    rhythm_len = pc.bar * 64\n",
    "    start_tick = 0\n",
    "    quantization = pc.beat\n",
    "    note_density = 10.0\n",
    "    note_len_choices = [pc.beat]\n",
    "\n",
    "    rhythm = Rhythm(rhythm_len=rhythm_len, start_tick=start_tick, quantization=quantization)\n",
    "    rhythm.build_rhythm_randomly(note_density=note_density, note_len_choices=note_len_choices)\n",
    "    rhythm.build_emphasis_ticks_randomly(emphasis_quantization=pc.beat, container=pc.bar)\n",
    "    \n",
    "    return rhythm"
   ]
  },
  {
   "cell_type": "markdown",
   "metadata": {},
   "source": [
    "## Example 9: Adding emphasis directly"
   ]
  },
  {
   "cell_type": "code",
   "execution_count": 430,
   "metadata": {},
   "outputs": [],
   "source": [
    "def example_9():\n",
    "    rhythm_len = pc.bar * 64\n",
    "    start_tick = 0\n",
    "    quantization = pc.beat\n",
    "    note_density = 10.0\n",
    "    note_len_choices = [pc.beat]\n",
    "\n",
    "    rhythm = Rhythm(rhythm_len=rhythm_len, start_tick=start_tick, quantization=quantization)\n",
    "    rhythm.build_rhythm_randomly(note_density=note_density, note_len_choices=note_len_choices)\n",
    "    rhythm.build_emphasis_ticks_directly(emphasis_quantization=pc.beat, container=pc.bar, emphasis_divisions=[2,5])  # sounds nice in 11/4 (3+8)\n",
    "    return rhythm"
   ]
  },
  {
   "cell_type": "markdown",
   "metadata": {},
   "source": [
    "## Example 10: Adding emphasis randomly 2"
   ]
  },
  {
   "cell_type": "code",
   "execution_count": 431,
   "metadata": {},
   "outputs": [],
   "source": [
    "def example_10():\n",
    "    # rhythm specs\n",
    "    rhythm_len = pc.bar * 64\n",
    "    start_tick = 0\n",
    "    quantization = pc.eighth_note\n",
    "    note_density = 1\n",
    "    note_len_choices = [pc.eighth_note, pc.quarter_note]\n",
    "\n",
    "    rhythm = Rhythm(rhythm_len=rhythm_len, start_tick=start_tick, quantization=quantization)\n",
    "    rhythm.build_rhythm_randomly(note_density=note_density, note_len_choices=note_len_choices)\n",
    "    rhythm.build_emphasis_ticks_randomly(emphasis_quantization=pc.eighth_note, container=pc.bar)\n",
    "    \n",
    "    return rhythm"
   ]
  },
  {
   "cell_type": "code",
   "execution_count": null,
   "metadata": {},
   "outputs": [],
   "source": [
    ""
   ]
  },
  {
   "cell_type": "code",
   "execution_count": 432,
   "metadata": {},
   "outputs": [
    {
     "name": "stdout",
     "output_type": "stream",
     "text": [
      "Emphasis on: [15  3 24 11]\n"
     ]
    }
   ],
   "source": [
    "rhythm = example_10()"
   ]
  },
  {
   "cell_type": "markdown",
   "metadata": {},
   "source": [
    "# Sync the chord progression with the rhythm"
   ]
  },
  {
   "cell_type": "code",
   "execution_count": 433,
   "metadata": {},
   "outputs": [],
   "source": [
    "cpr = ChordProgressionRhythm(\n",
    "    rhythm=rhythm,\n",
    "    chord_progression=chord_progression,\n",
    "    tick_method=\"direct\",  # \"direct\" or \"random\" or \"random_once\" or \"random_asc\" or \"random_desc\"\n",
    "    vel_method=\"random\",  # \"direct\" or \"random\"\n",
    "    tick_noise=[-55, 55])  # only used if tick_method is done randomly\n",
    "\n",
    "all_staged_events = []\n",
    "for chord in cpr.chords:\n",
    "    for staged_event in chord.staged_events:\n",
    "        all_staged_events.append(staged_event)\n",
    "df = convert_staging_events_to_dataframe(all_staged_events)\n",
    "df.sort_values(by=[\"tick\", \"duration\"], inplace=True)"
   ]
  },
  {
   "cell_type": "code",
   "execution_count": null,
   "metadata": {},
   "outputs": [],
   "source": [
    ""
   ]
  },
  {
   "cell_type": "markdown",
   "metadata": {},
   "source": [
    "# Finish and write to midi file"
   ]
  },
  {
   "cell_type": "code",
   "execution_count": 434,
   "metadata": {},
   "outputs": [
    {
     "data": {
      "text/plain": [
       "256"
      ]
     },
     "execution_count": 434,
     "output_type": "execute_result",
     "metadata": {}
    }
   ],
   "source": [
    "# add to track\n",
    "track = add_tuples_to_track(track, df)\n",
    "\n",
    "# Add the end of track event, append it to the track\n",
    "eot = midi.EndOfTrackEvent(tick=get_max_tick(track) + 2 * pc.whole_note)\n",
    "track.append(eot)\n",
    "\n",
    "track = make_ticks_rel(track)\n",
    "\n",
    "midi.write_midifile(\"example.mid\", pattern)\n",
    "\n",
    "os.system(\"timidity --adjust-tempo={} example.mid\".format(tempo))"
   ]
  }
 ],
 "metadata": {
  "kernelspec": {
   "display_name": "Python 2",
   "language": "python",
   "name": "python2"
  },
  "language_info": {
   "codemirror_mode": {
    "name": "ipython",
    "version": 2.0
   },
   "file_extension": ".py",
   "mimetype": "text/x-python",
   "name": "python",
   "nbconvert_exporter": "python",
   "pygments_lexer": "ipython2",
   "version": "2.7.14"
  },
  "toc": {
   "nav_menu": {},
   "number_sections": true,
   "sideBar": true,
   "skip_h1_title": false,
   "title_cell": "Table of Contents",
   "title_sidebar": "Contents",
   "toc_cell": true,
   "toc_position": {},
   "toc_section_display": true,
   "toc_window_display": true
  }
 },
 "nbformat": 4,
 "nbformat_minor": 1
}