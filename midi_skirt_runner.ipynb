{
 "cells": [
  {
   "cell_type": "code",
   "execution_count": 253,
   "metadata": {
    "collapsed": true
   },
   "outputs": [],
   "source": [
    "import os\n",
    "\n",
    "from midi_skirt import *"
   ]
  },
  {
   "cell_type": "code",
   "execution_count": 254,
   "metadata": {
    "collapsed": false
   },
   "outputs": [],
   "source": [
    "pc = PatternConstants(resolution=440, beats_per_bar=11)\n",
    "\n",
    "pattern = midi.Pattern(resolution=pc.resolution)\n",
    "track = midi.Track()\n",
    "pattern.append(track)"
   ]
  },
  {
   "cell_type": "code",
   "execution_count": 255,
   "metadata": {
    "collapsed": false
   },
   "outputs": [
    {
     "data": {
      "text/plain": [
       "['major',\n",
       " 'wholetone',\n",
       " 'melodicminor',\n",
       " 'harmonicminor',\n",
       " 'wholehalf',\n",
       " 'bluesminor',\n",
       " 'chromatic',\n",
       " 'ionian',\n",
       " 'augmentedfifth',\n",
       " 'locrian',\n",
       " 'oriental',\n",
       " 'minor',\n",
       " 'mixolydian',\n",
       " 'japanese',\n",
       " 'pentatonicminor',\n",
       " 'lydian',\n",
       " 'phrygian',\n",
       " 'halfwhole',\n",
       " 'diminished',\n",
       " 'pentatonicmajor',\n",
       " 'aeolian',\n",
       " 'dorian',\n",
       " 'bluesmajor',\n",
       " 'augmented']"
      ]
     },
     "execution_count": 255,
     "metadata": {},
     "output_type": "execute_result"
    }
   ],
   "source": [
    "scale.NAMED_SCALES.keys()"
   ]
  },
  {
   "cell_type": "markdown",
   "metadata": {},
   "source": [
    "# Chord Progression Examples"
   ]
  },
  {
   "cell_type": "markdown",
   "metadata": {},
   "source": [
    "## Method 1: Building from intervals"
   ]
  },
  {
   "cell_type": "code",
   "execution_count": 256,
   "metadata": {
    "collapsed": true
   },
   "outputs": [],
   "source": [
    "c7sharp9 = ChordBuilder().build_from_intervals(\"C\", 5, [\"1\", \"3\", \"5\", \"b7\", \"#9\"])\n",
    "am7 = ChordBuilder().build_from_intervals(\"A\", 5, [\"1\", \"b3\", \"5\", \"b7\"])\n",
    "g6 = ChordBuilder().build_from_intervals(\"G\", 5, [\"1\", \"3\", \"5\", \"6\"])\n",
    "f69 = ChordBuilder().build_from_intervals(\"F\", 5, [\"1\", \"3\", \"5\", \"6\", \"9\"])\n",
    "bb13 = ChordBuilder().build_from_intervals(\"Bb\", 5, [\"1\", \"3\", \"5\", \"b7\", \"9\", \"13\"])\n",
    "\n",
    "chord_progression = ChordProgression(\n",
    "    chords=[am7, g6, f69, bb13],\n",
    "    changes=[pc.bar, pc.bar, pc.bar, pc.bar]\n",
    ")\n",
    "\n",
    "chord_progression.repeat_progression(18)"
   ]
  },
  {
   "cell_type": "markdown",
   "metadata": {},
   "source": [
    "## Method 2: Building randomly from scale"
   ]
  },
  {
   "cell_type": "code",
   "execution_count": 257,
   "metadata": {
    "collapsed": true
   },
   "outputs": [],
   "source": [
    "num_chords_and_changes = 64\n",
    "chord_progression = ChordProgression(\n",
    "    changes=[pc.bar] * num_chords_and_changes\n",
    ")\n",
    "\n",
    "chord_progression.build_progression_randomly_from_scale(\"G\", 4, \"locrian\", num_chords_and_changes)"
   ]
  },
  {
   "cell_type": "code",
   "execution_count": null,
   "metadata": {
    "collapsed": true
   },
   "outputs": [],
   "source": []
  },
  {
   "cell_type": "markdown",
   "metadata": {},
   "source": [
    "# Rhythm Examples"
   ]
  },
  {
   "cell_type": "markdown",
   "metadata": {},
   "source": [
    "## Example 1: Medium note density, granular quantization, varying note durations"
   ]
  },
  {
   "cell_type": "code",
   "execution_count": 258,
   "metadata": {
    "collapsed": false
   },
   "outputs": [],
   "source": [
    "# rhythm specs\n",
    "rhythm_len = pc.bar * 64\n",
    "start_tick = 0\n",
    "quantization = pc.sixteenth_note\n",
    "note_density = .5\n",
    "note_len_choices = pc.get_notes_2()"
   ]
  },
  {
   "cell_type": "code",
   "execution_count": 259,
   "metadata": {
    "collapsed": true
   },
   "outputs": [],
   "source": [
    "rhythm = Rhythm(rhythm_len=rhythm_len, start_tick=start_tick, quantization=quantization)\n",
    "rhythm.build_rhythm_randomly(note_density=note_density, note_len_choices=note_len_choices)"
   ]
  },
  {
   "cell_type": "markdown",
   "metadata": {},
   "source": [
    "## Example 2: High note density, coarse quantization, bar-length durations"
   ]
  },
  {
   "cell_type": "code",
   "execution_count": 260,
   "metadata": {
    "collapsed": true
   },
   "outputs": [],
   "source": [
    "# rhythm specs\n",
    "rhythm_len = pc.bar * 64\n",
    "start_tick = 0\n",
    "quantization = pc.beat\n",
    "note_density = 10.0\n",
    "note_len_choices = [pc.beat]"
   ]
  },
  {
   "cell_type": "code",
   "execution_count": 261,
   "metadata": {
    "collapsed": true
   },
   "outputs": [],
   "source": [
    "rhythm = Rhythm(rhythm_len=rhythm_len, start_tick=start_tick, quantization=quantization)\n",
    "rhythm.build_rhythm_randomly(note_density=note_density, note_len_choices=note_len_choices)"
   ]
  },
  {
   "cell_type": "markdown",
   "metadata": {},
   "source": [
    "## Example 3: Triplets Durations (subtle)"
   ]
  },
  {
   "cell_type": "code",
   "execution_count": 262,
   "metadata": {
    "collapsed": true
   },
   "outputs": [],
   "source": [
    "# # rhythm specs\n",
    "# rhythm_len = pc.bar * 64\n",
    "# start_tick = 0\n",
    "# quantization = pc.half_note\n",
    "# note_density = 10.0\n",
    "# note_len_choices = pc.get_notes_3()"
   ]
  },
  {
   "cell_type": "code",
   "execution_count": 263,
   "metadata": {
    "collapsed": false
   },
   "outputs": [],
   "source": [
    "rhythm = Rhythm(rhythm_len=rhythm_len, start_tick=start_tick, quantization=quantization)\n",
    "rhythm.build_rhythm_randomly(note_density=note_density, note_len_choices=note_len_choices)"
   ]
  },
  {
   "cell_type": "markdown",
   "metadata": {},
   "source": [
    "## Example 4: Triplet Quantization"
   ]
  },
  {
   "cell_type": "code",
   "execution_count": 264,
   "metadata": {
    "collapsed": true
   },
   "outputs": [],
   "source": [
    "# # rhythm specs\n",
    "# rhythm_len = pc.bar * 64\n",
    "# start_tick = 0\n",
    "# quantization = pc.half_triplet\n",
    "# note_density = 10.0\n",
    "# note_len_choices = pc.get_notes_3()"
   ]
  },
  {
   "cell_type": "code",
   "execution_count": 265,
   "metadata": {
    "collapsed": false
   },
   "outputs": [],
   "source": [
    "rhythm = Rhythm(rhythm_len=rhythm_len, start_tick=start_tick, quantization=quantization)\n",
    "rhythm.build_rhythm_randomly(note_density=note_density, note_len_choices=note_len_choices)"
   ]
  },
  {
   "cell_type": "markdown",
   "metadata": {},
   "source": [
    "## Example 5: Fifth Quantization"
   ]
  },
  {
   "cell_type": "code",
   "execution_count": 266,
   "metadata": {
    "collapsed": true
   },
   "outputs": [],
   "source": [
    "# # rhythm specs\n",
    "# rhythm_len = pc.bar * 64\n",
    "# start_tick = 0\n",
    "# quantization = pc.half_fifth\n",
    "# note_density = 10.0\n",
    "# note_len_choices = pc.get_notes_5()"
   ]
  },
  {
   "cell_type": "code",
   "execution_count": 267,
   "metadata": {
    "collapsed": true
   },
   "outputs": [],
   "source": [
    "rhythm = Rhythm(rhythm_len=rhythm_len, start_tick=start_tick, quantization=quantization)\n",
    "rhythm.build_rhythm_randomly(note_density=note_density, note_len_choices=note_len_choices)"
   ]
  },
  {
   "cell_type": "markdown",
   "metadata": {},
   "source": [
    "## Example 6: Seventh Quantization"
   ]
  },
  {
   "cell_type": "code",
   "execution_count": 268,
   "metadata": {
    "collapsed": true
   },
   "outputs": [],
   "source": [
    "# # rhythm specs\n",
    "# rhythm_len = pc.bar * 64\n",
    "# start_tick = 0\n",
    "# quantization = pc.half_seventh\n",
    "# note_density = 10.0\n",
    "# note_len_choices = pc.get_notes_7()"
   ]
  },
  {
   "cell_type": "code",
   "execution_count": 269,
   "metadata": {
    "collapsed": true
   },
   "outputs": [],
   "source": [
    "rhythm = Rhythm(rhythm_len=rhythm_len, start_tick=start_tick, quantization=quantization)\n",
    "rhythm.build_rhythm_randomly(note_density=note_density, note_len_choices=note_len_choices)"
   ]
  },
  {
   "cell_type": "markdown",
   "metadata": {},
   "source": [
    "## Example 7: Ninth Quantization"
   ]
  },
  {
   "cell_type": "code",
   "execution_count": 270,
   "metadata": {
    "collapsed": true
   },
   "outputs": [],
   "source": [
    "# # rhythm specs\n",
    "# rhythm_len = pc.bar * 64\n",
    "# start_tick = 0\n",
    "# quantization = pc.half_ninth\n",
    "# note_density = 10.0\n",
    "# note_len_choices = pc.get_notes_9()"
   ]
  },
  {
   "cell_type": "code",
   "execution_count": 271,
   "metadata": {
    "collapsed": true
   },
   "outputs": [],
   "source": [
    "rhythm = Rhythm(rhythm_len=rhythm_len, start_tick=start_tick, quantization=quantization)\n",
    "rhythm.build_rhythm_randomly(note_density=note_density, note_len_choices=note_len_choices)"
   ]
  },
  {
   "cell_type": "code",
   "execution_count": null,
   "metadata": {
    "collapsed": true
   },
   "outputs": [],
   "source": []
  },
  {
   "cell_type": "code",
   "execution_count": null,
   "metadata": {
    "collapsed": true
   },
   "outputs": [],
   "source": []
  },
  {
   "cell_type": "markdown",
   "metadata": {},
   "source": [
    "# Sync the chord progression with the rhythm"
   ]
  },
  {
   "cell_type": "code",
   "execution_count": 272,
   "metadata": {
    "collapsed": false
   },
   "outputs": [],
   "source": [
    "cpr = ChordProgressionRhythm(\n",
    "    rhythm=rhythm,\n",
    "    chord_progression=chord_progression,\n",
    "    tick_method=\"direct\",  # \"direct\" or \"random\" or \"random_once\" or \"random_asc\" or \"random_desc\"\n",
    "    vel_method=\"random\",  # \"direct\" or \"random\"\n",
    "    tick_noise=[-55, 55])  # only used if tick_method is done randomly\n",
    "\n",
    "all_staged_events = []\n",
    "for chord in cpr.chords:\n",
    "    for staged_event in chord.staged_events:\n",
    "        all_staged_events.append(staged_event)\n",
    "df = convert_staging_events_to_dataframe(all_staged_events)\n",
    "df.sort_values(by=[\"tick\", \"duration\"], inplace=True)"
   ]
  },
  {
   "cell_type": "code",
   "execution_count": null,
   "metadata": {
    "collapsed": true
   },
   "outputs": [],
   "source": []
  },
  {
   "cell_type": "markdown",
   "metadata": {},
   "source": [
    "# Finish and write to midi file"
   ]
  },
  {
   "cell_type": "code",
   "execution_count": 273,
   "metadata": {
    "collapsed": false
   },
   "outputs": [
    {
     "data": {
      "text/plain": [
       "256"
      ]
     },
     "execution_count": 273,
     "metadata": {},
     "output_type": "execute_result"
    }
   ],
   "source": [
    "# add to track\n",
    "track = add_tuples_to_track(track, df)\n",
    "\n",
    "# Add the end of track event, append it to the track\n",
    "eot = midi.EndOfTrackEvent(tick=get_max_tick(track) + 2 * pc.whole_note)\n",
    "track.append(eot)\n",
    "\n",
    "track = make_ticks_rel(track)\n",
    "\n",
    "midi.write_midifile(\"example.mid\", pattern)\n",
    "\n",
    "os.system(\"timidity --adjust-tempo=220 /Users/jacknorman1/Documents/Programming/midi-skirt/example.mid\")"
   ]
  },
  {
   "cell_type": "code",
   "execution_count": null,
   "metadata": {
    "collapsed": true
   },
   "outputs": [],
   "source": []
  }
 ],
 "metadata": {
  "kernelspec": {
   "display_name": "Python 2",
   "language": "python",
   "name": "python2"
  },
  "language_info": {
   "codemirror_mode": {
    "name": "ipython",
    "version": 2
   },
   "file_extension": ".py",
   "mimetype": "text/x-python",
   "name": "python",
   "nbconvert_exporter": "python",
   "pygments_lexer": "ipython2",
   "version": "2.7.11"
  }
 },
 "nbformat": 4,
 "nbformat_minor": 0
}
