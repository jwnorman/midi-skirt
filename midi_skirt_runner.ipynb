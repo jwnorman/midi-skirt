{
 "cells": [
  {
   "cell_type": "code",
   "execution_count": 224,
   "metadata": {
    "collapsed": true
   },
   "outputs": [],
   "source": [
    "import os\n",
    "\n",
    "from midi_skirt import *"
   ]
  },
  {
   "cell_type": "code",
   "execution_count": 225,
   "metadata": {
    "collapsed": false
   },
   "outputs": [],
   "source": [
    "pc = PatternConstants(resolution=440, beats_per_bar=7)\n",
    "\n",
    "pattern = midi.Pattern(resolution=pc.resolution)\n",
    "track = midi.Track()\n",
    "pattern.append(track)"
   ]
  },
  {
   "cell_type": "code",
   "execution_count": 226,
   "metadata": {
    "collapsed": false
   },
   "outputs": [],
   "source": [
    "# blah = 21\n",
    "# sum([len(list(itertools.combinations(range(blah), i))) for i in range(blah)])"
   ]
  },
  {
   "cell_type": "code",
   "execution_count": 227,
   "metadata": {
    "collapsed": false
   },
   "outputs": [
    {
     "data": {
      "text/plain": [
       "['major',\n",
       " 'wholetone',\n",
       " 'melodicminor',\n",
       " 'harmonicminor',\n",
       " 'wholehalf',\n",
       " 'bluesminor',\n",
       " 'chromatic',\n",
       " 'ionian',\n",
       " 'augmentedfifth',\n",
       " 'locrian',\n",
       " 'oriental',\n",
       " 'minor',\n",
       " 'mixolydian',\n",
       " 'japanese',\n",
       " 'pentatonicminor',\n",
       " 'lydian',\n",
       " 'phrygian',\n",
       " 'halfwhole',\n",
       " 'diminished',\n",
       " 'pentatonicmajor',\n",
       " 'aeolian',\n",
       " 'dorian',\n",
       " 'bluesmajor',\n",
       " 'augmented']"
      ]
     },
     "execution_count": 227,
     "metadata": {},
     "output_type": "execute_result"
    }
   ],
   "source": [
    "scale.NAMED_SCALES.keys()"
   ]
  },
  {
   "cell_type": "markdown",
   "metadata": {},
   "source": [
    "# Chord Progression Examples"
   ]
  },
  {
   "cell_type": "markdown",
   "metadata": {},
   "source": [
    "## Method 1: Building from intervals"
   ]
  },
  {
   "cell_type": "code",
   "execution_count": 228,
   "metadata": {
    "collapsed": true
   },
   "outputs": [],
   "source": [
    "c7sharp9 = ChordBuilder().build_from_intervals(\"C\", 5, [\"1\", \"3\", \"5\", \"b7\", \"#9\"])\n",
    "am7 = ChordBuilder().build_from_intervals(\"A\", 5, [\"1\", \"b3\", \"5\", \"b7\"])\n",
    "g6 = ChordBuilder().build_from_intervals(\"G\", 5, [\"1\", \"3\", \"5\", \"6\"])\n",
    "f69 = ChordBuilder().build_from_intervals(\"F\", 5, [\"1\", \"3\", \"5\", \"6\", \"9\"])\n",
    "bb13 = ChordBuilder().build_from_intervals(\"Bb\", 5, [\"1\", \"3\", \"5\", \"b7\", \"9\", \"13\"])\n",
    "\n",
    "chord_progression = ChordProgression(\n",
    "    chords=[am7, g6, f69, bb13],\n",
    "    changes=[pc.bar, pc.bar, pc.bar, pc.bar]\n",
    ")\n",
    "\n",
    "chord_progression.repeat_progression(18)"
   ]
  },
  {
   "cell_type": "markdown",
   "metadata": {},
   "source": [
    "## Method 2: Building randomly from scale"
   ]
  },
  {
   "cell_type": "code",
   "execution_count": 229,
   "metadata": {
    "collapsed": true
   },
   "outputs": [],
   "source": [
    "num_chords_and_changes = 64\n",
    "chord_progression = ChordProgression(\n",
    "    changes=[pc.bar] * num_chords_and_changes\n",
    ")\n",
    "\n",
    "chord_progression.build_progression_randomly_from_scale(\"G\", 4, \"locrian\", num_chords_and_changes)"
   ]
  },
  {
   "cell_type": "markdown",
   "metadata": {},
   "source": [
    "# Rhythm Examples"
   ]
  },
  {
   "cell_type": "markdown",
   "metadata": {},
   "source": [
    "## Example 1: Medium note density, granular quantization, varying note durations"
   ]
  },
  {
   "cell_type": "code",
   "execution_count": 230,
   "metadata": {
    "collapsed": false
   },
   "outputs": [],
   "source": [
    "# rhythm specs\n",
    "rhythm_len = pc.bar * 64\n",
    "start_tick = 0\n",
    "quantization = pc.sixteenth_note\n",
    "note_density = .5\n",
    "note_len_choices = pc.get_notes_2()"
   ]
  },
  {
   "cell_type": "code",
   "execution_count": 231,
   "metadata": {
    "collapsed": true
   },
   "outputs": [],
   "source": [
    "rhythm = Rhythm(rhythm_len=rhythm_len, start_tick=start_tick, quantization=quantization)\n",
    "rhythm.build_rhythm_randomly(note_density=note_density, note_len_choices=note_len_choices)"
   ]
  },
  {
   "cell_type": "markdown",
   "metadata": {},
   "source": [
    "## Example 2: High note density, coarse quantization, bar-length durations"
   ]
  },
  {
   "cell_type": "code",
   "execution_count": 232,
   "metadata": {
    "collapsed": true
   },
   "outputs": [],
   "source": [
    "# rhythm specs\n",
    "rhythm_len = pc.bar * 64\n",
    "start_tick = 0\n",
    "quantization = pc.beat\n",
    "note_density = 10.0\n",
    "note_len_choices = [pc.beat]"
   ]
  },
  {
   "cell_type": "code",
   "execution_count": 233,
   "metadata": {
    "collapsed": true
   },
   "outputs": [],
   "source": [
    "rhythm = Rhythm(rhythm_len=rhythm_len, start_tick=start_tick, quantization=quantization)\n",
    "rhythm.build_rhythm_randomly(note_density=note_density, note_len_choices=note_len_choices)"
   ]
  },
  {
   "cell_type": "markdown",
   "metadata": {},
   "source": [
    "## Example 3: Triplets Durations (subtle)"
   ]
  },
  {
   "cell_type": "code",
   "execution_count": 234,
   "metadata": {
    "collapsed": true
   },
   "outputs": [],
   "source": [
    "# # rhythm specs\n",
    "# rhythm_len = pc.bar * 64\n",
    "# start_tick = 0\n",
    "# quantization = pc.half_note\n",
    "# note_density = 10.0\n",
    "# note_len_choices = pc.get_notes_3()"
   ]
  },
  {
   "cell_type": "code",
   "execution_count": 235,
   "metadata": {
    "collapsed": false
   },
   "outputs": [],
   "source": [
    "rhythm = Rhythm(rhythm_len=rhythm_len, start_tick=start_tick, quantization=quantization)\n",
    "rhythm.build_rhythm_randomly(note_density=note_density, note_len_choices=note_len_choices)"
   ]
  },
  {
   "cell_type": "markdown",
   "metadata": {},
   "source": [
    "## Example 4: Triplet Quantization"
   ]
  },
  {
   "cell_type": "code",
   "execution_count": 236,
   "metadata": {
    "collapsed": true
   },
   "outputs": [],
   "source": [
    "# # rhythm specs\n",
    "# rhythm_len = pc.bar * 64\n",
    "# start_tick = 0\n",
    "# quantization = pc.half_triplet\n",
    "# note_density = 10.0\n",
    "# note_len_choices = pc.get_notes_3()"
   ]
  },
  {
   "cell_type": "code",
   "execution_count": 237,
   "metadata": {
    "collapsed": false
   },
   "outputs": [],
   "source": [
    "rhythm = Rhythm(rhythm_len=rhythm_len, start_tick=start_tick, quantization=quantization)\n",
    "rhythm.build_rhythm_randomly(note_density=note_density, note_len_choices=note_len_choices)"
   ]
  },
  {
   "cell_type": "markdown",
   "metadata": {},
   "source": [
    "## Example 5: Fifth Quantization"
   ]
  },
  {
   "cell_type": "code",
   "execution_count": 238,
   "metadata": {
    "collapsed": true
   },
   "outputs": [],
   "source": [
    "# # rhythm specs\n",
    "# rhythm_len = pc.bar * 64\n",
    "# start_tick = 0\n",
    "# quantization = pc.half_fifth\n",
    "# note_density = 10.0\n",
    "# note_len_choices = pc.get_notes_5()"
   ]
  },
  {
   "cell_type": "code",
   "execution_count": 239,
   "metadata": {
    "collapsed": true
   },
   "outputs": [],
   "source": [
    "rhythm = Rhythm(rhythm_len=rhythm_len, start_tick=start_tick, quantization=quantization)\n",
    "rhythm.build_rhythm_randomly(note_density=note_density, note_len_choices=note_len_choices)"
   ]
  },
  {
   "cell_type": "markdown",
   "metadata": {},
   "source": [
    "## Example 6: Seventh Quantization"
   ]
  },
  {
   "cell_type": "code",
   "execution_count": 240,
   "metadata": {
    "collapsed": true
   },
   "outputs": [],
   "source": [
    "# # rhythm specs\n",
    "# rhythm_len = pc.bar * 64\n",
    "# start_tick = 0\n",
    "# quantization = pc.half_seventh\n",
    "# note_density = 10.0\n",
    "# note_len_choices = pc.get_notes_7()"
   ]
  },
  {
   "cell_type": "code",
   "execution_count": 241,
   "metadata": {
    "collapsed": true
   },
   "outputs": [],
   "source": [
    "rhythm = Rhythm(rhythm_len=rhythm_len, start_tick=start_tick, quantization=quantization)\n",
    "rhythm.build_rhythm_randomly(note_density=note_density, note_len_choices=note_len_choices)"
   ]
  },
  {
   "cell_type": "markdown",
   "metadata": {},
   "source": [
    "## Example 7: Ninth Quantization"
   ]
  },
  {
   "cell_type": "code",
   "execution_count": 242,
   "metadata": {
    "collapsed": true
   },
   "outputs": [],
   "source": [
    "# # rhythm specs\n",
    "# rhythm_len = pc.bar * 64\n",
    "# start_tick = 0\n",
    "# quantization = pc.half_ninth\n",
    "# note_density = 10.0\n",
    "# note_len_choices = pc.get_notes_9()"
   ]
  },
  {
   "cell_type": "code",
   "execution_count": 243,
   "metadata": {
    "collapsed": true
   },
   "outputs": [],
   "source": [
    "rhythm = Rhythm(rhythm_len=rhythm_len, start_tick=start_tick, quantization=quantization)\n",
    "rhythm.build_rhythm_randomly(note_density=note_density, note_len_choices=note_len_choices)"
   ]
  },
  {
   "cell_type": "markdown",
   "metadata": {
    "collapsed": true
   },
   "source": [
    "## Example 8: Adding emphasis randomly"
   ]
  },
  {
   "cell_type": "code",
   "execution_count": 244,
   "metadata": {
    "collapsed": true
   },
   "outputs": [],
   "source": [
    "def example_8():\n",
    "    # rhythm specs\n",
    "    rhythm_len = pc.bar * 64\n",
    "    start_tick = 0\n",
    "    quantization = pc.beat\n",
    "    note_density = 10.0\n",
    "    note_len_choices = [pc.beat]\n",
    "\n",
    "    rhythm = Rhythm(rhythm_len=rhythm_len, start_tick=start_tick, quantization=quantization)\n",
    "    rhythm.build_rhythm_randomly(note_density=note_density, note_len_choices=note_len_choices)\n",
    "    rhythm.build_emphasis_ticks_randomly(emphasis_quantization=pc.beat, container=pc.bar)\n",
    "    \n",
    "    return rhythm"
   ]
  },
  {
   "cell_type": "markdown",
   "metadata": {},
   "source": [
    "## Example 9: Adding emphasis directly"
   ]
  },
  {
   "cell_type": "code",
   "execution_count": 245,
   "metadata": {
    "collapsed": true
   },
   "outputs": [],
   "source": [
    "def example_9():\n",
    "    rhythm_len = pc.bar * 64\n",
    "    start_tick = 0\n",
    "    quantization = pc.beat\n",
    "    note_density = 10.0\n",
    "    note_len_choices = [pc.beat]\n",
    "\n",
    "    rhythm = Rhythm(rhythm_len=rhythm_len, start_tick=start_tick, quantization=quantization)\n",
    "    rhythm.build_rhythm_randomly(note_density=note_density, note_len_choices=note_len_choices)\n",
    "    rhythm.build_emphasis_ticks_directly(emphasis_quantization=pc.beat, container=pc.bar, emphasis_divisions=[2,5])  # sounds nice in 11/4 (3+8)\n",
    "    return rhythm"
   ]
  },
  {
   "cell_type": "markdown",
   "metadata": {
    "collapsed": true
   },
   "source": [
    "## Example 10: Adding emphasis randomly 2"
   ]
  },
  {
   "cell_type": "code",
   "execution_count": 246,
   "metadata": {
    "collapsed": true
   },
   "outputs": [],
   "source": [
    "def example_10():\n",
    "    # rhythm specs\n",
    "    rhythm_len = pc.bar * 64\n",
    "    start_tick = 0\n",
    "    quantization = pc.eighth_note\n",
    "    note_density = 10.0\n",
    "    note_len_choices = [pc.eighth_note]\n",
    "\n",
    "    rhythm = Rhythm(rhythm_len=rhythm_len, start_tick=start_tick, quantization=quantization)\n",
    "    rhythm.build_rhythm_randomly(note_density=note_density, note_len_choices=note_len_choices)\n",
    "    rhythm.build_emphasis_ticks_randomly(emphasis_quantization=pc.eighth_note, container=pc.bar)\n",
    "    \n",
    "    return rhythm"
   ]
  },
  {
   "cell_type": "code",
   "execution_count": null,
   "metadata": {
    "collapsed": true
   },
   "outputs": [],
   "source": []
  },
  {
   "cell_type": "code",
   "execution_count": 247,
   "metadata": {
    "collapsed": false
   },
   "outputs": [
    {
     "data": {
      "text/plain": [
       "4480"
      ]
     },
     "execution_count": 247,
     "metadata": {},
     "output_type": "execute_result"
    }
   ],
   "source": [
    "len(rhythm.emphases)"
   ]
  },
  {
   "cell_type": "code",
   "execution_count": 248,
   "metadata": {
    "collapsed": false
   },
   "outputs": [
    {
     "data": {
      "text/plain": [
       "14"
      ]
     },
     "execution_count": 248,
     "metadata": {},
     "output_type": "execute_result"
    }
   ],
   "source": [
    "pc.bar / pc.eighth_note"
   ]
  },
  {
   "cell_type": "code",
   "execution_count": 249,
   "metadata": {
    "collapsed": false
   },
   "outputs": [
    {
     "name": "stdout",
     "output_type": "stream",
     "text": [
      "Emphasis on: [ 7  4  1 14  2 10 13  3  6  9  5]\n"
     ]
    }
   ],
   "source": [
    "rhythm = example_10()"
   ]
  },
  {
   "cell_type": "code",
   "execution_count": 250,
   "metadata": {
    "collapsed": true
   },
   "outputs": [],
   "source": [
    "tempo = 80"
   ]
  },
  {
   "cell_type": "markdown",
   "metadata": {},
   "source": [
    "# Sync the chord progression with the rhythm"
   ]
  },
  {
   "cell_type": "code",
   "execution_count": 251,
   "metadata": {
    "collapsed": false
   },
   "outputs": [],
   "source": [
    "cpr = ChordProgressionRhythm(\n",
    "    rhythm=rhythm,\n",
    "    chord_progression=chord_progression,\n",
    "    tick_method=\"direct\",  # \"direct\" or \"random\" or \"random_once\" or \"random_asc\" or \"random_desc\"\n",
    "    vel_method=\"random\",  # \"direct\" or \"random\"\n",
    "    tick_noise=[-55, 55])  # only used if tick_method is done randomly\n",
    "\n",
    "all_staged_events = []\n",
    "for chord in cpr.chords:\n",
    "    for staged_event in chord.staged_events:\n",
    "        all_staged_events.append(staged_event)\n",
    "df = convert_staging_events_to_dataframe(all_staged_events)\n",
    "df.sort_values(by=[\"tick\", \"duration\"], inplace=True)"
   ]
  },
  {
   "cell_type": "code",
   "execution_count": null,
   "metadata": {
    "collapsed": true
   },
   "outputs": [],
   "source": []
  },
  {
   "cell_type": "markdown",
   "metadata": {},
   "source": [
    "# Finish and write to midi file"
   ]
  },
  {
   "cell_type": "code",
   "execution_count": 252,
   "metadata": {
    "collapsed": false
   },
   "outputs": [
    {
     "data": {
      "text/plain": [
       "256"
      ]
     },
     "execution_count": 252,
     "metadata": {},
     "output_type": "execute_result"
    }
   ],
   "source": [
    "# add to track\n",
    "track = add_tuples_to_track(track, df)\n",
    "\n",
    "# Add the end of track event, append it to the track\n",
    "eot = midi.EndOfTrackEvent(tick=get_max_tick(track) + 2 * pc.whole_note)\n",
    "track.append(eot)\n",
    "\n",
    "track = make_ticks_rel(track)\n",
    "\n",
    "midi.write_midifile(\"example.mid\", pattern)\n",
    "\n",
    "os.system(\"timidity --adjust-tempo={} /Users/jacknorman1/Documents/Programming/midi-skirt/example.mid\".format(tempo))"
   ]
  },
  {
   "cell_type": "code",
   "execution_count": null,
   "metadata": {
    "collapsed": true
   },
   "outputs": [],
   "source": []
  }
 ],
 "metadata": {
  "kernelspec": {
   "display_name": "Python 2",
   "language": "python",
   "name": "python2"
  },
  "language_info": {
   "codemirror_mode": {
    "name": "ipython",
    "version": 2
   },
   "file_extension": ".py",
   "mimetype": "text/x-python",
   "name": "python",
   "nbconvert_exporter": "python",
   "pygments_lexer": "ipython2",
   "version": "2.7.11"
  }
 },
 "nbformat": 4,
 "nbformat_minor": 0
}
